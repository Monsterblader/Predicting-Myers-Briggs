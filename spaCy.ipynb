{
 "metadata": {
  "language_info": {
   "codemirror_mode": {
    "name": "ipython",
    "version": 3
   },
   "file_extension": ".py",
   "mimetype": "text/x-python",
   "name": "python",
   "nbconvert_exporter": "python",
   "pygments_lexer": "ipython3",
   "version": "3.8.5-final"
  },
  "orig_nbformat": 2,
  "kernelspec": {
   "name": "Python 3.8.5 64-bit ('metis': conda)",
   "display_name": "Python 3.8.5 64-bit ('metis': conda)",
   "metadata": {
    "interpreter": {
     "hash": "1a0499c7a4a50afe9d0222578684e6b7d0a5b28e1d6168b6dad088fd14a794c9"
    }
   }
  }
 },
 "nbformat": 4,
 "nbformat_minor": 2,
 "cells": [
  {
   "source": [
    "## Resources\n",
    "[spaCy][https://www.analyticsvidhya.com/blog/2017/04/natural-language-processing-made-easy-using-spacy-%E2%80%8Bin-python/]"
   ],
   "cell_type": "markdown",
   "metadata": {}
  },
  {
   "cell_type": "code",
   "execution_count": 2,
   "metadata": {},
   "outputs": [],
   "source": [
    "import re\n",
    "import pandas as pd\n",
    "import matplotlib.pyplot as plt\n",
    "import seaborn as sns\n",
    "\n",
    "from sklearn.model_selection import train_test_split\n",
    "from sklearn.feature_extraction.stop_words import ENGLISH_STOP_WORDS as stopwords \n",
    "from sklearn.feature_extraction.text import CountVectorizer \n",
    "from sklearn.metrics import accuracy_score, precision_score, classification_report\n",
    "from sklearn.base import TransformerMixin \n",
    "from sklearn.pipeline import Pipeline\n",
    "from sklearn.svm import LinearSVC, SVC\n",
    "from sklearn.neighbors import KNeighborsClassifier\n",
    "from sklearn.naive_bayes import GaussianNB\n",
    "from sklearn.tree import DecisionTreeClassifier\n",
    "from sklearn.ensemble import RandomForestClassifier\n",
    "\n",
    "import string\n",
    "punctuations = string.punctuation\n",
    "\n",
    "from spacy.lang.en import English"
   ]
  },
  {
   "cell_type": "code",
   "execution_count": 3,
   "metadata": {},
   "outputs": [],
   "source": [
    "from functions import load_data_set\n",
    "myers_briggs = load_data_set()"
   ]
  },
  {
   "cell_type": "code",
   "execution_count": 4,
   "metadata": {},
   "outputs": [],
   "source": [
    "%config InlineBackend.figure_formats = ['svg']\n",
    "%matplotlib inline\n",
    "\n",
    "plt.rcParams['figure.figsize'] = (9, 6)\n",
    "sns.set(context='notebook', style='whitegrid', font_scale=1.2)\n",
    "\n",
    "parser = English()\n",
    "\n",
    "#Custom transformer using spaCy \n",
    "class predictors(TransformerMixin):\n",
    "    def transform(self, X, **transform_params):\n",
    "        return [clean_text(text) for text in X]\n",
    "    def fit(self, X, y=None, **fit_params):\n",
    "        return self\n",
    "    def get_params(self, deep=True):\n",
    "        return {}\n",
    "\n",
    "# Basic utility function to clean the text \n",
    "def clean_text(text):     \n",
    "    return text.strip().lower()"
   ]
  },
  {
   "source": [
    "## For loading posts by personality type from database."
   ],
   "cell_type": "markdown",
   "metadata": {}
  },
  {
   "cell_type": "code",
   "execution_count": 6,
   "metadata": {},
   "outputs": [],
   "source": [
    "# get_posts_by_type = \"SELECT posts FROM raw_data WHERE type = 'ENTJ';\"\n",
    "\n",
    "# posts_by_type = pg_fetch_all(connection, get_posts_by_type)"
   ]
  },
  {
   "cell_type": "code",
   "execution_count": 6,
   "metadata": {},
   "outputs": [],
   "source": [
    "mb_df = pd.DataFrame(myers_briggs, columns=['type', 'posts'])\n",
    "types = sorted(mb_df['type'].unique())\n",
    "\n",
    "post_list = [re.split('\\|\\|\\|+', post) for post in mb_df['posts']]\n",
    "post_df = pd.DataFrame(post_list)\n",
    "post_df.insert(loc=0, column='type', value=mb_df['type'])\n",
    "\n",
    "posts_by_type = {typ: mb_df[mb_df['type'] == typ] for typ in types}"
   ]
  },
  {
   "cell_type": "code",
   "execution_count": 23,
   "metadata": {},
   "outputs": [],
   "source": [
    "# Convert post_df to a two-column data set.\n",
    "def compress_posts(df):\n",
    "    result = []\n",
    "    df_length = range(len(df))\n",
    "\n",
    "    for i in df_length:\n",
    "        for j in range(1, 59):\n",
    "            if df.iloc[i][j] != None:\n",
    "                result.append([df['type'][i], df.iloc[i][j]])\n",
    "    \n",
    "    return pd.DataFrame(result)\n",
    "\n",
    "vertical_post_df = compress_posts(post_df)\n",
    "vertical_post_df.columns = ['type', 'posts']"
   ]
  },
  {
   "cell_type": "code",
   "execution_count": 24,
   "metadata": {},
   "outputs": [],
   "source": [
    "from collections import Counter\n",
    "\n",
    "personality_count = Counter()\n",
    "\n",
    "for i in mb_df['type']:\n",
    "    personality_count[i] += 1\n",
    "\n",
    "personality_types = sorted(personality_count)\n",
    "post_count = [personality_count[x] for x in personality_types]"
   ]
  },
  {
   "cell_type": "code",
   "execution_count": 25,
   "metadata": {},
   "outputs": [
    {
     "output_type": "execute_result",
     "data": {
      "text/plain": [
       "Text(0, 0.5, 'Number of Posts')"
      ]
     },
     "metadata": {},
     "execution_count": 25
    },
    {
     "output_type": "display_data",
     "data": {
      "text/plain": "<Figure size 648x432 with 1 Axes>",
      "image/svg+xml": "<?xml version=\"1.0\" encoding=\"utf-8\" standalone=\"no\"?>\n<!DOCTYPE svg PUBLIC \"-//W3C//DTD SVG 1.1//EN\"\n  \"http://www.w3.org/Graphics/SVG/1.1/DTD/svg11.dtd\">\n<!-- Created with matplotlib (https://matplotlib.org/) -->\n<svg height=\"402.602813pt\" version=\"1.1\" viewBox=\"0 0 572.631 402.602813\" width=\"572.631pt\" xmlns=\"http://www.w3.org/2000/svg\" xmlns:xlink=\"http://www.w3.org/1999/xlink\">\n <metadata>\n  <rdf:RDF xmlns:cc=\"http://creativecommons.org/ns#\" xmlns:dc=\"http://purl.org/dc/elements/1.1/\" xmlns:rdf=\"http://www.w3.org/1999/02/22-rdf-syntax-ns#\">\n   <cc:Work>\n    <dc:type rdf:resource=\"http://purl.org/dc/dcmitype/StillImage\"/>\n    <dc:date>2020-10-20T17:18:39.196343</dc:date>\n    <dc:format>image/svg+xml</dc:format>\n    <dc:creator>\n     <cc:Agent>\n      <dc:title>Matplotlib v3.3.2, https://matplotlib.org/</dc:title>\n     </cc:Agent>\n    </dc:creator>\n   </cc:Work>\n  </rdf:RDF>\n </metadata>\n <defs>\n  <style type=\"text/css\">*{stroke-linecap:butt;stroke-linejoin:round;}</style>\n </defs>\n <g id=\"figure_1\">\n  <g id=\"patch_1\">\n   <path d=\"M 0 402.602813 \nL 572.631 402.602813 \nL 572.631 0 \nL 0 0 \nz\n\" style=\"fill:#ffffff;\"/>\n  </g>\n  <g id=\"axes_1\">\n   <g id=\"patch_2\">\n    <path d=\"M 63.231 333.36 \nL 565.431 333.36 \nL 565.431 7.2 \nL 63.231 7.2 \nz\n\" style=\"fill:#ffffff;\"/>\n   </g>\n   <g id=\"matplotlib.axis_1\">\n    <g id=\"xtick_1\">\n     <g id=\"line2d_1\">\n      <path clip-path=\"url(#p72946da522)\" d=\"M 97.616386 333.36 \nL 97.616386 7.2 \n\" style=\"fill:none;stroke:#cccccc;stroke-linecap:round;\"/>\n     </g>\n     <g id=\"text_1\">\n      <!-- ENFJ -->\n      <g style=\"fill:#262626;\" transform=\"translate(101.028792 375.86)rotate(-90)scale(0.132 -0.132)\">\n       <defs>\n        <path d=\"M 7.90625 0 \nL 7.90625 71.578125 \nL 59.671875 71.578125 \nL 59.671875 63.140625 \nL 17.390625 63.140625 \nL 17.390625 41.21875 \nL 56.984375 41.21875 \nL 56.984375 32.8125 \nL 17.390625 32.8125 \nL 17.390625 8.453125 \nL 61.328125 8.453125 \nL 61.328125 0 \nz\n\" id=\"ArialMT-69\"/>\n        <path d=\"M 7.625 0 \nL 7.625 71.578125 \nL 17.328125 71.578125 \nL 54.9375 15.375 \nL 54.9375 71.578125 \nL 64.015625 71.578125 \nL 64.015625 0 \nL 54.296875 0 \nL 16.703125 56.25 \nL 16.703125 0 \nz\n\" id=\"ArialMT-78\"/>\n        <path d=\"M 8.203125 0 \nL 8.203125 71.578125 \nL 56.5 71.578125 \nL 56.5 63.140625 \nL 17.671875 63.140625 \nL 17.671875 40.96875 \nL 51.265625 40.96875 \nL 51.265625 32.515625 \nL 17.671875 32.515625 \nL 17.671875 0 \nz\n\" id=\"ArialMT-70\"/>\n        <path d=\"M 2.875 20.3125 \nL 11.421875 21.484375 \nQ 11.765625 13.28125 14.5 10.25 \nQ 17.234375 7.234375 22.078125 7.234375 \nQ 25.640625 7.234375 28.21875 8.859375 \nQ 30.8125 10.5 31.78125 13.296875 \nQ 32.765625 16.109375 32.765625 22.265625 \nL 32.765625 71.578125 \nL 42.234375 71.578125 \nL 42.234375 22.796875 \nQ 42.234375 13.8125 40.0625 8.875 \nQ 37.890625 3.953125 33.171875 1.359375 \nQ 28.46875 -1.21875 22.125 -1.21875 \nQ 12.703125 -1.21875 7.6875 4.203125 \nQ 2.6875 9.625 2.875 20.3125 \nz\n\" id=\"ArialMT-74\"/>\n       </defs>\n       <use xlink:href=\"#ArialMT-69\"/>\n       <use x=\"66.699219\" xlink:href=\"#ArialMT-78\"/>\n       <use x=\"138.916016\" xlink:href=\"#ArialMT-70\"/>\n       <use x=\"200\" xlink:href=\"#ArialMT-74\"/>\n      </g>\n     </g>\n    </g>\n    <g id=\"xtick_2\">\n     <g id=\"line2d_2\">\n      <path clip-path=\"url(#p72946da522)\" d=\"M 126.511667 333.36 \nL 126.511667 7.2 \n\" style=\"fill:none;stroke:#cccccc;stroke-linecap:round;\"/>\n     </g>\n     <g id=\"text_2\">\n      <!-- ENFP -->\n      <g style=\"fill:#262626;\" transform=\"translate(129.924074 378.064813)rotate(-90)scale(0.132 -0.132)\">\n       <defs>\n        <path d=\"M 7.71875 0 \nL 7.71875 71.578125 \nL 34.71875 71.578125 \nQ 41.84375 71.578125 45.609375 70.90625 \nQ 50.875 70.015625 54.4375 67.546875 \nQ 58.015625 65.09375 60.1875 60.640625 \nQ 62.359375 56.203125 62.359375 50.875 \nQ 62.359375 41.75 56.546875 35.421875 \nQ 50.734375 29.109375 35.546875 29.109375 \nL 17.1875 29.109375 \nL 17.1875 0 \nz\nM 17.1875 37.546875 \nL 35.6875 37.546875 \nQ 44.875 37.546875 48.734375 40.96875 \nQ 52.59375 44.390625 52.59375 50.59375 \nQ 52.59375 55.078125 50.3125 58.265625 \nQ 48.046875 61.46875 44.34375 62.5 \nQ 41.9375 63.140625 35.5 63.140625 \nL 17.1875 63.140625 \nz\n\" id=\"ArialMT-80\"/>\n       </defs>\n       <use xlink:href=\"#ArialMT-69\"/>\n       <use x=\"66.699219\" xlink:href=\"#ArialMT-78\"/>\n       <use x=\"138.916016\" xlink:href=\"#ArialMT-70\"/>\n       <use x=\"200\" xlink:href=\"#ArialMT-80\"/>\n      </g>\n     </g>\n    </g>\n    <g id=\"xtick_3\">\n     <g id=\"line2d_3\">\n      <path clip-path=\"url(#p72946da522)\" d=\"M 155.406949 333.36 \nL 155.406949 7.2 \n\" style=\"fill:none;stroke:#cccccc;stroke-linecap:round;\"/>\n     </g>\n     <g id=\"text_3\">\n      <!-- ENTJ -->\n      <g style=\"fill:#262626;\" transform=\"translate(158.819356 375.86)rotate(-90)scale(0.132 -0.132)\">\n       <defs>\n        <path d=\"M 25.921875 0 \nL 25.921875 63.140625 \nL 2.34375 63.140625 \nL 2.34375 71.578125 \nL 59.078125 71.578125 \nL 59.078125 63.140625 \nL 35.40625 63.140625 \nL 35.40625 0 \nz\n\" id=\"ArialMT-84\"/>\n       </defs>\n       <use xlink:href=\"#ArialMT-69\"/>\n       <use x=\"66.699219\" xlink:href=\"#ArialMT-78\"/>\n       <use x=\"138.916016\" xlink:href=\"#ArialMT-84\"/>\n       <use x=\"200\" xlink:href=\"#ArialMT-74\"/>\n      </g>\n     </g>\n    </g>\n    <g id=\"xtick_4\">\n     <g id=\"line2d_4\">\n      <path clip-path=\"url(#p72946da522)\" d=\"M 184.302231 333.36 \nL 184.302231 7.2 \n\" style=\"fill:none;stroke:#cccccc;stroke-linecap:round;\"/>\n     </g>\n     <g id=\"text_4\">\n      <!-- ENTP -->\n      <g style=\"fill:#262626;\" transform=\"translate(187.714638 378.064813)rotate(-90)scale(0.132 -0.132)\">\n       <use xlink:href=\"#ArialMT-69\"/>\n       <use x=\"66.699219\" xlink:href=\"#ArialMT-78\"/>\n       <use x=\"138.916016\" xlink:href=\"#ArialMT-84\"/>\n       <use x=\"200\" xlink:href=\"#ArialMT-80\"/>\n      </g>\n     </g>\n    </g>\n    <g id=\"xtick_5\">\n     <g id=\"line2d_5\">\n      <path clip-path=\"url(#p72946da522)\" d=\"M 213.197513 333.36 \nL 213.197513 7.2 \n\" style=\"fill:none;stroke:#cccccc;stroke-linecap:round;\"/>\n     </g>\n     <g id=\"text_5\">\n      <!-- ESFJ -->\n      <g style=\"fill:#262626;\" transform=\"translate(216.609919 375.131938)rotate(-90)scale(0.132 -0.132)\">\n       <defs>\n        <path d=\"M 4.5 23 \nL 13.421875 23.78125 \nQ 14.0625 18.40625 16.375 14.96875 \nQ 18.703125 11.53125 23.578125 9.40625 \nQ 28.46875 7.28125 34.578125 7.28125 \nQ 39.984375 7.28125 44.140625 8.890625 \nQ 48.296875 10.5 50.3125 13.296875 \nQ 52.34375 16.109375 52.34375 19.4375 \nQ 52.34375 22.796875 50.390625 25.3125 \nQ 48.4375 27.828125 43.953125 29.546875 \nQ 41.0625 30.671875 31.203125 33.03125 \nQ 21.34375 35.40625 17.390625 37.5 \nQ 12.25 40.1875 9.734375 44.15625 \nQ 7.234375 48.140625 7.234375 53.078125 \nQ 7.234375 58.5 10.296875 63.203125 \nQ 13.375 67.921875 19.28125 70.359375 \nQ 25.203125 72.796875 32.421875 72.796875 \nQ 40.375 72.796875 46.453125 70.234375 \nQ 52.546875 67.671875 55.8125 62.6875 \nQ 59.078125 57.71875 59.328125 51.421875 \nL 50.25 50.734375 \nQ 49.515625 57.515625 45.28125 60.984375 \nQ 41.0625 64.453125 32.8125 64.453125 \nQ 24.21875 64.453125 20.28125 61.296875 \nQ 16.359375 58.15625 16.359375 53.71875 \nQ 16.359375 49.859375 19.140625 47.359375 \nQ 21.875 44.875 33.421875 42.265625 \nQ 44.96875 39.65625 49.265625 37.703125 \nQ 55.515625 34.8125 58.484375 30.390625 \nQ 61.46875 25.984375 61.46875 20.21875 \nQ 61.46875 14.5 58.203125 9.4375 \nQ 54.9375 4.390625 48.796875 1.578125 \nQ 42.671875 -1.21875 35.015625 -1.21875 \nQ 25.296875 -1.21875 18.71875 1.609375 \nQ 12.15625 4.4375 8.421875 10.125 \nQ 4.6875 15.828125 4.5 23 \nz\n\" id=\"ArialMT-83\"/>\n       </defs>\n       <use xlink:href=\"#ArialMT-69\"/>\n       <use x=\"66.699219\" xlink:href=\"#ArialMT-83\"/>\n       <use x=\"133.398438\" xlink:href=\"#ArialMT-70\"/>\n       <use x=\"194.482422\" xlink:href=\"#ArialMT-74\"/>\n      </g>\n     </g>\n    </g>\n    <g id=\"xtick_6\">\n     <g id=\"line2d_6\">\n      <path clip-path=\"url(#p72946da522)\" d=\"M 242.092795 333.36 \nL 242.092795 7.2 \n\" style=\"fill:none;stroke:#cccccc;stroke-linecap:round;\"/>\n     </g>\n     <g id=\"text_6\">\n      <!-- ESFP -->\n      <g style=\"fill:#262626;\" transform=\"translate(245.505201 377.33675)rotate(-90)scale(0.132 -0.132)\">\n       <use xlink:href=\"#ArialMT-69\"/>\n       <use x=\"66.699219\" xlink:href=\"#ArialMT-83\"/>\n       <use x=\"133.398438\" xlink:href=\"#ArialMT-70\"/>\n       <use x=\"194.482422\" xlink:href=\"#ArialMT-80\"/>\n      </g>\n     </g>\n    </g>\n    <g id=\"xtick_7\">\n     <g id=\"line2d_7\">\n      <path clip-path=\"url(#p72946da522)\" d=\"M 270.988077 333.36 \nL 270.988077 7.2 \n\" style=\"fill:none;stroke:#cccccc;stroke-linecap:round;\"/>\n     </g>\n     <g id=\"text_7\">\n      <!-- ESTJ -->\n      <g style=\"fill:#262626;\" transform=\"translate(274.400483 375.131938)rotate(-90)scale(0.132 -0.132)\">\n       <use xlink:href=\"#ArialMT-69\"/>\n       <use x=\"66.699219\" xlink:href=\"#ArialMT-83\"/>\n       <use x=\"133.398438\" xlink:href=\"#ArialMT-84\"/>\n       <use x=\"194.482422\" xlink:href=\"#ArialMT-74\"/>\n      </g>\n     </g>\n    </g>\n    <g id=\"xtick_8\">\n     <g id=\"line2d_8\">\n      <path clip-path=\"url(#p72946da522)\" d=\"M 299.883359 333.36 \nL 299.883359 7.2 \n\" style=\"fill:none;stroke:#cccccc;stroke-linecap:round;\"/>\n     </g>\n     <g id=\"text_8\">\n      <!-- ESTP -->\n      <g style=\"fill:#262626;\" transform=\"translate(303.295765 377.33675)rotate(-90)scale(0.132 -0.132)\">\n       <use xlink:href=\"#ArialMT-69\"/>\n       <use x=\"66.699219\" xlink:href=\"#ArialMT-83\"/>\n       <use x=\"133.398438\" xlink:href=\"#ArialMT-84\"/>\n       <use x=\"194.482422\" xlink:href=\"#ArialMT-80\"/>\n      </g>\n     </g>\n    </g>\n    <g id=\"xtick_9\">\n     <g id=\"line2d_9\">\n      <path clip-path=\"url(#p72946da522)\" d=\"M 328.778641 333.36 \nL 328.778641 7.2 \n\" style=\"fill:none;stroke:#cccccc;stroke-linecap:round;\"/>\n     </g>\n     <g id=\"text_9\">\n      <!-- INFJ -->\n      <g style=\"fill:#262626;\" transform=\"translate(332.191047 370.722313)rotate(-90)scale(0.132 -0.132)\">\n       <defs>\n        <path d=\"M 9.328125 0 \nL 9.328125 71.578125 \nL 18.796875 71.578125 \nL 18.796875 0 \nz\n\" id=\"ArialMT-73\"/>\n       </defs>\n       <use xlink:href=\"#ArialMT-73\"/>\n       <use x=\"27.783203\" xlink:href=\"#ArialMT-78\"/>\n       <use x=\"100\" xlink:href=\"#ArialMT-70\"/>\n       <use x=\"161.083984\" xlink:href=\"#ArialMT-74\"/>\n      </g>\n     </g>\n    </g>\n    <g id=\"xtick_10\">\n     <g id=\"line2d_10\">\n      <path clip-path=\"url(#p72946da522)\" d=\"M 357.673923 333.36 \nL 357.673923 7.2 \n\" style=\"fill:none;stroke:#cccccc;stroke-linecap:round;\"/>\n     </g>\n     <g id=\"text_10\">\n      <!-- INFP -->\n      <g style=\"fill:#262626;\" transform=\"translate(361.086329 372.927125)rotate(-90)scale(0.132 -0.132)\">\n       <use xlink:href=\"#ArialMT-73\"/>\n       <use x=\"27.783203\" xlink:href=\"#ArialMT-78\"/>\n       <use x=\"100\" xlink:href=\"#ArialMT-70\"/>\n       <use x=\"161.083984\" xlink:href=\"#ArialMT-80\"/>\n      </g>\n     </g>\n    </g>\n    <g id=\"xtick_11\">\n     <g id=\"line2d_11\">\n      <path clip-path=\"url(#p72946da522)\" d=\"M 386.569205 333.36 \nL 386.569205 7.2 \n\" style=\"fill:none;stroke:#cccccc;stroke-linecap:round;\"/>\n     </g>\n     <g id=\"text_11\">\n      <!-- INTJ -->\n      <g style=\"fill:#262626;\" transform=\"translate(389.981611 370.722313)rotate(-90)scale(0.132 -0.132)\">\n       <use xlink:href=\"#ArialMT-73\"/>\n       <use x=\"27.783203\" xlink:href=\"#ArialMT-78\"/>\n       <use x=\"100\" xlink:href=\"#ArialMT-84\"/>\n       <use x=\"161.083984\" xlink:href=\"#ArialMT-74\"/>\n      </g>\n     </g>\n    </g>\n    <g id=\"xtick_12\">\n     <g id=\"line2d_12\">\n      <path clip-path=\"url(#p72946da522)\" d=\"M 415.464487 333.36 \nL 415.464487 7.2 \n\" style=\"fill:none;stroke:#cccccc;stroke-linecap:round;\"/>\n     </g>\n     <g id=\"text_12\">\n      <!-- INTP -->\n      <g style=\"fill:#262626;\" transform=\"translate(418.876893 372.927125)rotate(-90)scale(0.132 -0.132)\">\n       <use xlink:href=\"#ArialMT-73\"/>\n       <use x=\"27.783203\" xlink:href=\"#ArialMT-78\"/>\n       <use x=\"100\" xlink:href=\"#ArialMT-84\"/>\n       <use x=\"161.083984\" xlink:href=\"#ArialMT-80\"/>\n      </g>\n     </g>\n    </g>\n    <g id=\"xtick_13\">\n     <g id=\"line2d_13\">\n      <path clip-path=\"url(#p72946da522)\" d=\"M 444.359769 333.36 \nL 444.359769 7.2 \n\" style=\"fill:none;stroke:#cccccc;stroke-linecap:round;\"/>\n     </g>\n     <g id=\"text_13\">\n      <!-- ISFJ -->\n      <g style=\"fill:#262626;\" transform=\"translate(447.772175 369.99425)rotate(-90)scale(0.132 -0.132)\">\n       <use xlink:href=\"#ArialMT-73\"/>\n       <use x=\"27.783203\" xlink:href=\"#ArialMT-83\"/>\n       <use x=\"94.482422\" xlink:href=\"#ArialMT-70\"/>\n       <use x=\"155.566406\" xlink:href=\"#ArialMT-74\"/>\n      </g>\n     </g>\n    </g>\n    <g id=\"xtick_14\">\n     <g id=\"line2d_14\">\n      <path clip-path=\"url(#p72946da522)\" d=\"M 473.255051 333.36 \nL 473.255051 7.2 \n\" style=\"fill:none;stroke:#cccccc;stroke-linecap:round;\"/>\n     </g>\n     <g id=\"text_14\">\n      <!-- ISFP -->\n      <g style=\"fill:#262626;\" transform=\"translate(476.667457 372.199063)rotate(-90)scale(0.132 -0.132)\">\n       <use xlink:href=\"#ArialMT-73\"/>\n       <use x=\"27.783203\" xlink:href=\"#ArialMT-83\"/>\n       <use x=\"94.482422\" xlink:href=\"#ArialMT-70\"/>\n       <use x=\"155.566406\" xlink:href=\"#ArialMT-80\"/>\n      </g>\n     </g>\n    </g>\n    <g id=\"xtick_15\">\n     <g id=\"line2d_15\">\n      <path clip-path=\"url(#p72946da522)\" d=\"M 502.150333 333.36 \nL 502.150333 7.2 \n\" style=\"fill:none;stroke:#cccccc;stroke-linecap:round;\"/>\n     </g>\n     <g id=\"text_15\">\n      <!-- ISTJ -->\n      <g style=\"fill:#262626;\" transform=\"translate(505.562739 369.99425)rotate(-90)scale(0.132 -0.132)\">\n       <use xlink:href=\"#ArialMT-73\"/>\n       <use x=\"27.783203\" xlink:href=\"#ArialMT-83\"/>\n       <use x=\"94.482422\" xlink:href=\"#ArialMT-84\"/>\n       <use x=\"155.566406\" xlink:href=\"#ArialMT-74\"/>\n      </g>\n     </g>\n    </g>\n    <g id=\"xtick_16\">\n     <g id=\"line2d_16\">\n      <path clip-path=\"url(#p72946da522)\" d=\"M 531.045614 333.36 \nL 531.045614 7.2 \n\" style=\"fill:none;stroke:#cccccc;stroke-linecap:round;\"/>\n     </g>\n     <g id=\"text_16\">\n      <!-- ISTP -->\n      <g style=\"fill:#262626;\" transform=\"translate(534.458021 372.199063)rotate(-90)scale(0.132 -0.132)\">\n       <use xlink:href=\"#ArialMT-73\"/>\n       <use x=\"27.783203\" xlink:href=\"#ArialMT-83\"/>\n       <use x=\"94.482422\" xlink:href=\"#ArialMT-84\"/>\n       <use x=\"155.566406\" xlink:href=\"#ArialMT-80\"/>\n      </g>\n     </g>\n    </g>\n    <g id=\"text_17\">\n     <!-- Personality Type -->\n     <g style=\"fill:#262626;\" transform=\"translate(261.232125 392.372063)scale(0.144 -0.144)\">\n      <defs>\n       <path d=\"M 42.09375 16.703125 \nL 51.171875 15.578125 \nQ 49.03125 7.625 43.21875 3.21875 \nQ 37.40625 -1.171875 28.375 -1.171875 \nQ 17 -1.171875 10.328125 5.828125 \nQ 3.65625 12.84375 3.65625 25.484375 \nQ 3.65625 38.578125 10.390625 45.796875 \nQ 17.140625 53.03125 27.875 53.03125 \nQ 38.28125 53.03125 44.875 45.953125 \nQ 51.46875 38.875 51.46875 26.03125 \nQ 51.46875 25.25 51.421875 23.6875 \nL 12.75 23.6875 \nQ 13.234375 15.140625 17.578125 10.59375 \nQ 21.921875 6.0625 28.421875 6.0625 \nQ 33.25 6.0625 36.671875 8.59375 \nQ 40.09375 11.140625 42.09375 16.703125 \nz\nM 13.234375 30.90625 \nL 42.1875 30.90625 \nQ 41.609375 37.453125 38.875 40.71875 \nQ 34.671875 45.796875 27.984375 45.796875 \nQ 21.921875 45.796875 17.796875 41.75 \nQ 13.671875 37.703125 13.234375 30.90625 \nz\n\" id=\"ArialMT-101\"/>\n       <path d=\"M 6.5 0 \nL 6.5 51.859375 \nL 14.40625 51.859375 \nL 14.40625 44 \nQ 17.4375 49.515625 20 51.265625 \nQ 22.5625 53.03125 25.640625 53.03125 \nQ 30.078125 53.03125 34.671875 50.203125 \nL 31.640625 42.046875 \nQ 28.421875 43.953125 25.203125 43.953125 \nQ 22.3125 43.953125 20.015625 42.21875 \nQ 17.71875 40.484375 16.75 37.40625 \nQ 15.28125 32.71875 15.28125 27.15625 \nL 15.28125 0 \nz\n\" id=\"ArialMT-114\"/>\n       <path d=\"M 3.078125 15.484375 \nL 11.765625 16.84375 \nQ 12.5 11.625 15.84375 8.84375 \nQ 19.1875 6.0625 25.203125 6.0625 \nQ 31.25 6.0625 34.171875 8.515625 \nQ 37.109375 10.984375 37.109375 14.3125 \nQ 37.109375 17.28125 34.515625 19 \nQ 32.71875 20.171875 25.53125 21.96875 \nQ 15.875 24.421875 12.140625 26.203125 \nQ 8.40625 27.984375 6.46875 31.125 \nQ 4.546875 34.28125 4.546875 38.09375 \nQ 4.546875 41.546875 6.125 44.5 \nQ 7.71875 47.46875 10.453125 49.421875 \nQ 12.5 50.921875 16.03125 51.96875 \nQ 19.578125 53.03125 23.640625 53.03125 \nQ 29.734375 53.03125 34.34375 51.265625 \nQ 38.96875 49.515625 41.15625 46.5 \nQ 43.359375 43.5 44.1875 38.484375 \nL 35.59375 37.3125 \nQ 35.015625 41.3125 32.203125 43.546875 \nQ 29.390625 45.796875 24.265625 45.796875 \nQ 18.21875 45.796875 15.625 43.796875 \nQ 13.03125 41.796875 13.03125 39.109375 \nQ 13.03125 37.40625 14.109375 36.03125 \nQ 15.1875 34.625 17.484375 33.6875 \nQ 18.796875 33.203125 25.25 31.453125 \nQ 34.578125 28.953125 38.25 27.359375 \nQ 41.9375 25.78125 44.03125 22.75 \nQ 46.140625 19.734375 46.140625 15.234375 \nQ 46.140625 10.84375 43.578125 6.953125 \nQ 41.015625 3.078125 36.171875 0.953125 \nQ 31.34375 -1.171875 25.25 -1.171875 \nQ 15.140625 -1.171875 9.84375 3.03125 \nQ 4.546875 7.234375 3.078125 15.484375 \nz\n\" id=\"ArialMT-115\"/>\n       <path d=\"M 3.328125 25.921875 \nQ 3.328125 40.328125 11.328125 47.265625 \nQ 18.015625 53.03125 27.640625 53.03125 \nQ 38.328125 53.03125 45.109375 46.015625 \nQ 51.90625 39.015625 51.90625 26.65625 \nQ 51.90625 16.65625 48.90625 10.90625 \nQ 45.90625 5.171875 40.15625 2 \nQ 34.421875 -1.171875 27.640625 -1.171875 \nQ 16.75 -1.171875 10.03125 5.8125 \nQ 3.328125 12.796875 3.328125 25.921875 \nz\nM 12.359375 25.921875 \nQ 12.359375 15.96875 16.703125 11.015625 \nQ 21.046875 6.0625 27.640625 6.0625 \nQ 34.1875 6.0625 38.53125 11.03125 \nQ 42.875 16.015625 42.875 26.21875 \nQ 42.875 35.84375 38.5 40.796875 \nQ 34.125 45.75 27.640625 45.75 \nQ 21.046875 45.75 16.703125 40.8125 \nQ 12.359375 35.890625 12.359375 25.921875 \nz\n\" id=\"ArialMT-111\"/>\n       <path d=\"M 6.59375 0 \nL 6.59375 51.859375 \nL 14.5 51.859375 \nL 14.5 44.484375 \nQ 20.21875 53.03125 31 53.03125 \nQ 35.6875 53.03125 39.625 51.34375 \nQ 43.5625 49.65625 45.515625 46.921875 \nQ 47.46875 44.1875 48.25 40.4375 \nQ 48.734375 37.984375 48.734375 31.890625 \nL 48.734375 0 \nL 39.9375 0 \nL 39.9375 31.546875 \nQ 39.9375 36.921875 38.90625 39.578125 \nQ 37.890625 42.234375 35.28125 43.8125 \nQ 32.671875 45.40625 29.15625 45.40625 \nQ 23.53125 45.40625 19.453125 41.84375 \nQ 15.375 38.28125 15.375 28.328125 \nL 15.375 0 \nz\n\" id=\"ArialMT-110\"/>\n       <path d=\"M 40.4375 6.390625 \nQ 35.546875 2.25 31.03125 0.53125 \nQ 26.515625 -1.171875 21.34375 -1.171875 \nQ 12.796875 -1.171875 8.203125 3 \nQ 3.609375 7.171875 3.609375 13.671875 \nQ 3.609375 17.484375 5.34375 20.625 \nQ 7.078125 23.78125 9.890625 25.6875 \nQ 12.703125 27.59375 16.21875 28.5625 \nQ 18.796875 29.25 24.03125 29.890625 \nQ 34.671875 31.15625 39.703125 32.90625 \nQ 39.75 34.71875 39.75 35.203125 \nQ 39.75 40.578125 37.25 42.78125 \nQ 33.890625 45.75 27.25 45.75 \nQ 21.046875 45.75 18.09375 43.578125 \nQ 15.140625 41.40625 13.71875 35.890625 \nL 5.125 37.0625 \nQ 6.296875 42.578125 8.984375 45.96875 \nQ 11.671875 49.359375 16.75 51.1875 \nQ 21.828125 53.03125 28.515625 53.03125 \nQ 35.15625 53.03125 39.296875 51.46875 \nQ 43.453125 49.90625 45.40625 47.53125 \nQ 47.359375 45.171875 48.140625 41.546875 \nQ 48.578125 39.3125 48.578125 33.453125 \nL 48.578125 21.734375 \nQ 48.578125 9.46875 49.140625 6.21875 \nQ 49.703125 2.984375 51.375 0 \nL 42.1875 0 \nQ 40.828125 2.734375 40.4375 6.390625 \nz\nM 39.703125 26.03125 \nQ 34.90625 24.078125 25.34375 22.703125 \nQ 19.921875 21.921875 17.671875 20.9375 \nQ 15.4375 19.96875 14.203125 18.09375 \nQ 12.984375 16.21875 12.984375 13.921875 \nQ 12.984375 10.40625 15.640625 8.0625 \nQ 18.3125 5.71875 23.4375 5.71875 \nQ 28.515625 5.71875 32.46875 7.9375 \nQ 36.421875 10.15625 38.28125 14.015625 \nQ 39.703125 17 39.703125 22.796875 \nz\n\" id=\"ArialMT-97\"/>\n       <path d=\"M 6.390625 0 \nL 6.390625 71.578125 \nL 15.1875 71.578125 \nL 15.1875 0 \nz\n\" id=\"ArialMT-108\"/>\n       <path d=\"M 6.640625 61.46875 \nL 6.640625 71.578125 \nL 15.4375 71.578125 \nL 15.4375 61.46875 \nz\nM 6.640625 0 \nL 6.640625 51.859375 \nL 15.4375 51.859375 \nL 15.4375 0 \nz\n\" id=\"ArialMT-105\"/>\n       <path d=\"M 25.78125 7.859375 \nL 27.046875 0.09375 \nQ 23.34375 -0.6875 20.40625 -0.6875 \nQ 15.625 -0.6875 12.984375 0.828125 \nQ 10.359375 2.34375 9.28125 4.8125 \nQ 8.203125 7.28125 8.203125 15.1875 \nL 8.203125 45.015625 \nL 1.765625 45.015625 \nL 1.765625 51.859375 \nL 8.203125 51.859375 \nL 8.203125 64.703125 \nL 16.9375 69.96875 \nL 16.9375 51.859375 \nL 25.78125 51.859375 \nL 25.78125 45.015625 \nL 16.9375 45.015625 \nL 16.9375 14.703125 \nQ 16.9375 10.9375 17.40625 9.859375 \nQ 17.875 8.796875 18.921875 8.15625 \nQ 19.96875 7.515625 21.921875 7.515625 \nQ 23.390625 7.515625 25.78125 7.859375 \nz\n\" id=\"ArialMT-116\"/>\n       <path d=\"M 6.203125 -19.96875 \nL 5.21875 -11.71875 \nQ 8.109375 -12.5 10.25 -12.5 \nQ 13.1875 -12.5 14.9375 -11.515625 \nQ 16.703125 -10.546875 17.828125 -8.796875 \nQ 18.65625 -7.46875 20.515625 -2.25 \nQ 20.75 -1.515625 21.296875 -0.09375 \nL 1.609375 51.859375 \nL 11.078125 51.859375 \nL 21.875 21.828125 \nQ 23.96875 16.109375 25.640625 9.8125 \nQ 27.15625 15.875 29.25 21.625 \nL 40.328125 51.859375 \nL 49.125 51.859375 \nL 29.390625 -0.875 \nQ 26.21875 -9.421875 24.46875 -12.640625 \nQ 22.125 -17 19.09375 -19.015625 \nQ 16.0625 -21.046875 11.859375 -21.046875 \nQ 9.328125 -21.046875 6.203125 -19.96875 \nz\n\" id=\"ArialMT-121\"/>\n       <path id=\"ArialMT-32\"/>\n       <path d=\"M 6.59375 -19.875 \nL 6.59375 51.859375 \nL 14.59375 51.859375 \nL 14.59375 45.125 \nQ 17.4375 49.078125 21 51.046875 \nQ 24.5625 53.03125 29.640625 53.03125 \nQ 36.28125 53.03125 41.359375 49.609375 \nQ 46.4375 46.1875 49.015625 39.953125 \nQ 51.609375 33.734375 51.609375 26.3125 \nQ 51.609375 18.359375 48.75 11.984375 \nQ 45.90625 5.609375 40.453125 2.21875 \nQ 35.015625 -1.171875 29 -1.171875 \nQ 24.609375 -1.171875 21.109375 0.6875 \nQ 17.625 2.546875 15.375 5.375 \nL 15.375 -19.875 \nz\nM 14.546875 25.640625 \nQ 14.546875 15.625 18.59375 10.84375 \nQ 22.65625 6.0625 28.421875 6.0625 \nQ 34.28125 6.0625 38.453125 11.015625 \nQ 42.625 15.96875 42.625 26.375 \nQ 42.625 36.28125 38.546875 41.203125 \nQ 34.46875 46.140625 28.8125 46.140625 \nQ 23.1875 46.140625 18.859375 40.890625 \nQ 14.546875 35.640625 14.546875 25.640625 \nz\n\" id=\"ArialMT-112\"/>\n      </defs>\n      <use xlink:href=\"#ArialMT-80\"/>\n      <use x=\"66.699219\" xlink:href=\"#ArialMT-101\"/>\n      <use x=\"122.314453\" xlink:href=\"#ArialMT-114\"/>\n      <use x=\"155.615234\" xlink:href=\"#ArialMT-115\"/>\n      <use x=\"205.615234\" xlink:href=\"#ArialMT-111\"/>\n      <use x=\"261.230469\" xlink:href=\"#ArialMT-110\"/>\n      <use x=\"316.845703\" xlink:href=\"#ArialMT-97\"/>\n      <use x=\"372.460938\" xlink:href=\"#ArialMT-108\"/>\n      <use x=\"394.677734\" xlink:href=\"#ArialMT-105\"/>\n      <use x=\"416.894531\" xlink:href=\"#ArialMT-116\"/>\n      <use x=\"444.677734\" xlink:href=\"#ArialMT-121\"/>\n      <use x=\"494.677734\" xlink:href=\"#ArialMT-32\"/>\n      <use x=\"520.710938\" xlink:href=\"#ArialMT-84\"/>\n      <use x=\"576.294922\" xlink:href=\"#ArialMT-121\"/>\n      <use x=\"626.294922\" xlink:href=\"#ArialMT-112\"/>\n      <use x=\"681.910156\" xlink:href=\"#ArialMT-101\"/>\n     </g>\n    </g>\n   </g>\n   <g id=\"matplotlib.axis_2\">\n    <g id=\"ytick_1\">\n     <g id=\"line2d_17\">\n      <path clip-path=\"url(#p72946da522)\" d=\"M 63.231 333.36 \nL 565.431 333.36 \n\" style=\"fill:none;stroke:#cccccc;stroke-linecap:round;\"/>\n     </g>\n     <g id=\"text_18\">\n      <!-- 0 -->\n      <g style=\"fill:#262626;\" transform=\"translate(46.390563 338.084156)scale(0.132 -0.132)\">\n       <defs>\n        <path d=\"M 4.15625 35.296875 \nQ 4.15625 48 6.765625 55.734375 \nQ 9.375 63.484375 14.515625 67.671875 \nQ 19.671875 71.875 27.484375 71.875 \nQ 33.25 71.875 37.59375 69.546875 \nQ 41.9375 67.234375 44.765625 62.859375 \nQ 47.609375 58.5 49.21875 52.21875 \nQ 50.828125 45.953125 50.828125 35.296875 \nQ 50.828125 22.703125 48.234375 14.96875 \nQ 45.65625 7.234375 40.5 3 \nQ 35.359375 -1.21875 27.484375 -1.21875 \nQ 17.140625 -1.21875 11.234375 6.203125 \nQ 4.15625 15.140625 4.15625 35.296875 \nz\nM 13.1875 35.296875 \nQ 13.1875 17.671875 17.3125 11.828125 \nQ 21.4375 6 27.484375 6 \nQ 33.546875 6 37.671875 11.859375 \nQ 41.796875 17.71875 41.796875 35.296875 \nQ 41.796875 52.984375 37.671875 58.78125 \nQ 33.546875 64.59375 27.390625 64.59375 \nQ 21.34375 64.59375 17.71875 59.46875 \nQ 13.1875 52.9375 13.1875 35.296875 \nz\n\" id=\"ArialMT-48\"/>\n       </defs>\n       <use xlink:href=\"#ArialMT-48\"/>\n      </g>\n     </g>\n    </g>\n    <g id=\"ytick_2\">\n     <g id=\"line2d_18\">\n      <path clip-path=\"url(#p72946da522)\" d=\"M 63.231 290.97073 \nL 565.431 290.97073 \n\" style=\"fill:none;stroke:#cccccc;stroke-linecap:round;\"/>\n     </g>\n     <g id=\"text_19\">\n      <!-- 250 -->\n      <g style=\"fill:#262626;\" transform=\"translate(31.709688 295.694886)scale(0.132 -0.132)\">\n       <defs>\n        <path d=\"M 50.34375 8.453125 \nL 50.34375 0 \nL 3.03125 0 \nQ 2.9375 3.171875 4.046875 6.109375 \nQ 5.859375 10.9375 9.828125 15.625 \nQ 13.8125 20.3125 21.34375 26.46875 \nQ 33.015625 36.03125 37.109375 41.625 \nQ 41.21875 47.21875 41.21875 52.203125 \nQ 41.21875 57.421875 37.46875 61 \nQ 33.734375 64.59375 27.734375 64.59375 \nQ 21.390625 64.59375 17.578125 60.78125 \nQ 13.765625 56.984375 13.71875 50.25 \nL 4.6875 51.171875 \nQ 5.609375 61.28125 11.65625 66.578125 \nQ 17.71875 71.875 27.9375 71.875 \nQ 38.234375 71.875 44.234375 66.15625 \nQ 50.25 60.453125 50.25 52 \nQ 50.25 47.703125 48.484375 43.546875 \nQ 46.734375 39.40625 42.65625 34.8125 \nQ 38.578125 30.21875 29.109375 22.21875 \nQ 21.1875 15.578125 18.9375 13.203125 \nQ 16.703125 10.84375 15.234375 8.453125 \nz\n\" id=\"ArialMT-50\"/>\n        <path d=\"M 4.15625 18.75 \nL 13.375 19.53125 \nQ 14.40625 12.796875 18.140625 9.390625 \nQ 21.875 6 27.15625 6 \nQ 33.5 6 37.890625 10.78125 \nQ 42.28125 15.578125 42.28125 23.484375 \nQ 42.28125 31 38.0625 35.34375 \nQ 33.84375 39.703125 27 39.703125 \nQ 22.75 39.703125 19.328125 37.765625 \nQ 15.921875 35.84375 13.96875 32.765625 \nL 5.71875 33.84375 \nL 12.640625 70.609375 \nL 48.25 70.609375 \nL 48.25 62.203125 \nL 19.671875 62.203125 \nL 15.828125 42.96875 \nQ 22.265625 47.46875 29.34375 47.46875 \nQ 38.71875 47.46875 45.15625 40.96875 \nQ 51.609375 34.46875 51.609375 24.265625 \nQ 51.609375 14.546875 45.953125 7.46875 \nQ 39.0625 -1.21875 27.15625 -1.21875 \nQ 17.390625 -1.21875 11.203125 4.25 \nQ 5.03125 9.71875 4.15625 18.75 \nz\n\" id=\"ArialMT-53\"/>\n       </defs>\n       <use xlink:href=\"#ArialMT-50\"/>\n       <use x=\"55.615234\" xlink:href=\"#ArialMT-53\"/>\n       <use x=\"111.230469\" xlink:href=\"#ArialMT-48\"/>\n      </g>\n     </g>\n    </g>\n    <g id=\"ytick_3\">\n     <g id=\"line2d_19\">\n      <path clip-path=\"url(#p72946da522)\" d=\"M 63.231 248.58146 \nL 565.431 248.58146 \n\" style=\"fill:none;stroke:#cccccc;stroke-linecap:round;\"/>\n     </g>\n     <g id=\"text_20\">\n      <!-- 500 -->\n      <g style=\"fill:#262626;\" transform=\"translate(31.709688 253.305616)scale(0.132 -0.132)\">\n       <use xlink:href=\"#ArialMT-53\"/>\n       <use x=\"55.615234\" xlink:href=\"#ArialMT-48\"/>\n       <use x=\"111.230469\" xlink:href=\"#ArialMT-48\"/>\n      </g>\n     </g>\n    </g>\n    <g id=\"ytick_4\">\n     <g id=\"line2d_20\">\n      <path clip-path=\"url(#p72946da522)\" d=\"M 63.231 206.19219 \nL 565.431 206.19219 \n\" style=\"fill:none;stroke:#cccccc;stroke-linecap:round;\"/>\n     </g>\n     <g id=\"text_21\">\n      <!-- 750 -->\n      <g style=\"fill:#262626;\" transform=\"translate(31.709688 210.916346)scale(0.132 -0.132)\">\n       <defs>\n        <path d=\"M 4.734375 62.203125 \nL 4.734375 70.65625 \nL 51.078125 70.65625 \nL 51.078125 63.8125 \nQ 44.234375 56.546875 37.515625 44.484375 \nQ 30.8125 32.421875 27.15625 19.671875 \nQ 24.515625 10.6875 23.78125 0 \nL 14.75 0 \nQ 14.890625 8.453125 18.0625 20.40625 \nQ 21.234375 32.375 27.171875 43.484375 \nQ 33.109375 54.59375 39.796875 62.203125 \nz\n\" id=\"ArialMT-55\"/>\n       </defs>\n       <use xlink:href=\"#ArialMT-55\"/>\n       <use x=\"55.615234\" xlink:href=\"#ArialMT-53\"/>\n       <use x=\"111.230469\" xlink:href=\"#ArialMT-48\"/>\n      </g>\n     </g>\n    </g>\n    <g id=\"ytick_5\">\n     <g id=\"line2d_21\">\n      <path clip-path=\"url(#p72946da522)\" d=\"M 63.231 163.80292 \nL 565.431 163.80292 \n\" style=\"fill:none;stroke:#cccccc;stroke-linecap:round;\"/>\n     </g>\n     <g id=\"text_22\">\n      <!-- 1000 -->\n      <g style=\"fill:#262626;\" transform=\"translate(24.36925 168.527076)scale(0.132 -0.132)\">\n       <defs>\n        <path d=\"M 37.25 0 \nL 28.46875 0 \nL 28.46875 56 \nQ 25.296875 52.984375 20.140625 49.953125 \nQ 14.984375 46.921875 10.890625 45.40625 \nL 10.890625 53.90625 \nQ 18.265625 57.375 23.78125 62.296875 \nQ 29.296875 67.234375 31.59375 71.875 \nL 37.25 71.875 \nz\n\" id=\"ArialMT-49\"/>\n       </defs>\n       <use xlink:href=\"#ArialMT-49\"/>\n       <use x=\"55.615234\" xlink:href=\"#ArialMT-48\"/>\n       <use x=\"111.230469\" xlink:href=\"#ArialMT-48\"/>\n       <use x=\"166.845703\" xlink:href=\"#ArialMT-48\"/>\n      </g>\n     </g>\n    </g>\n    <g id=\"ytick_6\">\n     <g id=\"line2d_22\">\n      <path clip-path=\"url(#p72946da522)\" d=\"M 63.231 121.413649 \nL 565.431 121.413649 \n\" style=\"fill:none;stroke:#cccccc;stroke-linecap:round;\"/>\n     </g>\n     <g id=\"text_23\">\n      <!-- 1250 -->\n      <g style=\"fill:#262626;\" transform=\"translate(24.36925 126.137806)scale(0.132 -0.132)\">\n       <use xlink:href=\"#ArialMT-49\"/>\n       <use x=\"55.615234\" xlink:href=\"#ArialMT-50\"/>\n       <use x=\"111.230469\" xlink:href=\"#ArialMT-53\"/>\n       <use x=\"166.845703\" xlink:href=\"#ArialMT-48\"/>\n      </g>\n     </g>\n    </g>\n    <g id=\"ytick_7\">\n     <g id=\"line2d_23\">\n      <path clip-path=\"url(#p72946da522)\" d=\"M 63.231 79.024379 \nL 565.431 79.024379 \n\" style=\"fill:none;stroke:#cccccc;stroke-linecap:round;\"/>\n     </g>\n     <g id=\"text_24\">\n      <!-- 1500 -->\n      <g style=\"fill:#262626;\" transform=\"translate(24.36925 83.748536)scale(0.132 -0.132)\">\n       <use xlink:href=\"#ArialMT-49\"/>\n       <use x=\"55.615234\" xlink:href=\"#ArialMT-53\"/>\n       <use x=\"111.230469\" xlink:href=\"#ArialMT-48\"/>\n       <use x=\"166.845703\" xlink:href=\"#ArialMT-48\"/>\n      </g>\n     </g>\n    </g>\n    <g id=\"ytick_8\">\n     <g id=\"line2d_24\">\n      <path clip-path=\"url(#p72946da522)\" d=\"M 63.231 36.635109 \nL 565.431 36.635109 \n\" style=\"fill:none;stroke:#cccccc;stroke-linecap:round;\"/>\n     </g>\n     <g id=\"text_25\">\n      <!-- 1750 -->\n      <g style=\"fill:#262626;\" transform=\"translate(24.36925 41.359265)scale(0.132 -0.132)\">\n       <use xlink:href=\"#ArialMT-49\"/>\n       <use x=\"55.615234\" xlink:href=\"#ArialMT-55\"/>\n       <use x=\"111.230469\" xlink:href=\"#ArialMT-53\"/>\n       <use x=\"166.845703\" xlink:href=\"#ArialMT-48\"/>\n      </g>\n     </g>\n    </g>\n    <g id=\"text_26\">\n     <!-- Number of Posts -->\n     <g style=\"fill:#262626;\" transform=\"translate(17.50725 223.8975)rotate(-90)scale(0.144 -0.144)\">\n      <defs>\n       <path d=\"M 40.578125 0 \nL 40.578125 7.625 \nQ 34.515625 -1.171875 24.125 -1.171875 \nQ 19.53125 -1.171875 15.546875 0.578125 \nQ 11.578125 2.34375 9.640625 5 \nQ 7.71875 7.671875 6.9375 11.53125 \nQ 6.390625 14.109375 6.390625 19.734375 \nL 6.390625 51.859375 \nL 15.1875 51.859375 \nL 15.1875 23.09375 \nQ 15.1875 16.21875 15.71875 13.8125 \nQ 16.546875 10.359375 19.234375 8.375 \nQ 21.921875 6.390625 25.875 6.390625 \nQ 29.828125 6.390625 33.296875 8.421875 \nQ 36.765625 10.453125 38.203125 13.9375 \nQ 39.65625 17.4375 39.65625 24.078125 \nL 39.65625 51.859375 \nL 48.4375 51.859375 \nL 48.4375 0 \nz\n\" id=\"ArialMT-117\"/>\n       <path d=\"M 6.59375 0 \nL 6.59375 51.859375 \nL 14.453125 51.859375 \nL 14.453125 44.578125 \nQ 16.890625 48.390625 20.9375 50.703125 \nQ 25 53.03125 30.171875 53.03125 \nQ 35.9375 53.03125 39.625 50.640625 \nQ 43.3125 48.25 44.828125 43.953125 \nQ 50.984375 53.03125 60.84375 53.03125 \nQ 68.5625 53.03125 72.703125 48.75 \nQ 76.859375 44.484375 76.859375 35.59375 \nL 76.859375 0 \nL 68.109375 0 \nL 68.109375 32.671875 \nQ 68.109375 37.9375 67.25 40.25 \nQ 66.40625 42.578125 64.15625 43.984375 \nQ 61.921875 45.40625 58.890625 45.40625 \nQ 53.421875 45.40625 49.796875 41.765625 \nQ 46.1875 38.140625 46.1875 30.125 \nL 46.1875 0 \nL 37.40625 0 \nL 37.40625 33.6875 \nQ 37.40625 39.546875 35.25 42.46875 \nQ 33.109375 45.40625 28.21875 45.40625 \nQ 24.515625 45.40625 21.359375 43.453125 \nQ 18.21875 41.5 16.796875 37.734375 \nQ 15.375 33.984375 15.375 26.90625 \nL 15.375 0 \nz\n\" id=\"ArialMT-109\"/>\n       <path d=\"M 14.703125 0 \nL 6.546875 0 \nL 6.546875 71.578125 \nL 15.328125 71.578125 \nL 15.328125 46.046875 \nQ 20.90625 53.03125 29.546875 53.03125 \nQ 34.328125 53.03125 38.59375 51.09375 \nQ 42.875 49.171875 45.625 45.671875 \nQ 48.390625 42.1875 49.953125 37.25 \nQ 51.515625 32.328125 51.515625 26.703125 \nQ 51.515625 13.375 44.921875 6.09375 \nQ 38.328125 -1.171875 29.109375 -1.171875 \nQ 19.921875 -1.171875 14.703125 6.5 \nz\nM 14.59375 26.3125 \nQ 14.59375 17 17.140625 12.84375 \nQ 21.296875 6.0625 28.375 6.0625 \nQ 34.125 6.0625 38.328125 11.0625 \nQ 42.53125 16.0625 42.53125 25.984375 \nQ 42.53125 36.140625 38.5 40.96875 \nQ 34.46875 45.796875 28.765625 45.796875 \nQ 23 45.796875 18.796875 40.796875 \nQ 14.59375 35.796875 14.59375 26.3125 \nz\n\" id=\"ArialMT-98\"/>\n       <path d=\"M 8.6875 0 \nL 8.6875 45.015625 \nL 0.921875 45.015625 \nL 0.921875 51.859375 \nL 8.6875 51.859375 \nL 8.6875 57.375 \nQ 8.6875 62.59375 9.625 65.140625 \nQ 10.890625 68.5625 14.078125 70.671875 \nQ 17.28125 72.796875 23.046875 72.796875 \nQ 26.765625 72.796875 31.25 71.921875 \nL 29.9375 64.265625 \nQ 27.203125 64.75 24.75 64.75 \nQ 20.75 64.75 19.09375 63.03125 \nQ 17.4375 61.328125 17.4375 56.640625 \nL 17.4375 51.859375 \nL 27.546875 51.859375 \nL 27.546875 45.015625 \nL 17.4375 45.015625 \nL 17.4375 0 \nz\n\" id=\"ArialMT-102\"/>\n      </defs>\n      <use xlink:href=\"#ArialMT-78\"/>\n      <use x=\"72.216797\" xlink:href=\"#ArialMT-117\"/>\n      <use x=\"127.832031\" xlink:href=\"#ArialMT-109\"/>\n      <use x=\"211.132812\" xlink:href=\"#ArialMT-98\"/>\n      <use x=\"266.748047\" xlink:href=\"#ArialMT-101\"/>\n      <use x=\"322.363281\" xlink:href=\"#ArialMT-114\"/>\n      <use x=\"355.664062\" xlink:href=\"#ArialMT-32\"/>\n      <use x=\"383.447266\" xlink:href=\"#ArialMT-111\"/>\n      <use x=\"439.0625\" xlink:href=\"#ArialMT-102\"/>\n      <use x=\"466.845703\" xlink:href=\"#ArialMT-32\"/>\n      <use x=\"494.628906\" xlink:href=\"#ArialMT-80\"/>\n      <use x=\"561.328125\" xlink:href=\"#ArialMT-111\"/>\n      <use x=\"616.943359\" xlink:href=\"#ArialMT-115\"/>\n      <use x=\"666.943359\" xlink:href=\"#ArialMT-116\"/>\n      <use x=\"694.726562\" xlink:href=\"#ArialMT-115\"/>\n     </g>\n    </g>\n   </g>\n   <g id=\"patch_3\">\n    <path clip-path=\"url(#p72946da522)\" d=\"M 86.058273 333.36 \nL 109.174498 333.36 \nL 109.174498 301.144155 \nL 86.058273 301.144155 \nz\n\" style=\"fill:#4c72b0;stroke:#ffffff;stroke-linejoin:miter;\"/>\n   </g>\n   <g id=\"patch_4\">\n    <path clip-path=\"url(#p72946da522)\" d=\"M 114.953555 333.36 \nL 138.06978 333.36 \nL 138.06978 218.908971 \nL 114.953555 218.908971 \nz\n\" style=\"fill:#4c72b0;stroke:#ffffff;stroke-linejoin:miter;\"/>\n   </g>\n   <g id=\"patch_5\">\n    <path clip-path=\"url(#p72946da522)\" d=\"M 143.848837 333.36 \nL 166.965062 333.36 \nL 166.965062 294.192314 \nL 143.848837 294.192314 \nz\n\" style=\"fill:#4c72b0;stroke:#ffffff;stroke-linejoin:miter;\"/>\n   </g>\n   <g id=\"patch_6\">\n    <path clip-path=\"url(#p72946da522)\" d=\"M 172.744119 333.36 \nL 195.860344 333.36 \nL 195.860344 217.2134 \nL 172.744119 217.2134 \nz\n\" style=\"fill:#4c72b0;stroke:#ffffff;stroke-linejoin:miter;\"/>\n   </g>\n   <g id=\"patch_7\">\n    <path clip-path=\"url(#p72946da522)\" d=\"M 201.6394 333.36 \nL 224.755626 333.36 \nL 224.755626 326.238603 \nL 201.6394 326.238603 \nz\n\" style=\"fill:#4c72b0;stroke:#ffffff;stroke-linejoin:miter;\"/>\n   </g>\n   <g id=\"patch_8\">\n    <path clip-path=\"url(#p72946da522)\" d=\"M 230.534682 333.36 \nL 253.650908 333.36 \nL 253.650908 325.22126 \nL 230.534682 325.22126 \nz\n\" style=\"fill:#4c72b0;stroke:#ffffff;stroke-linejoin:miter;\"/>\n   </g>\n   <g id=\"patch_9\">\n    <path clip-path=\"url(#p72946da522)\" d=\"M 259.429964 333.36 \nL 282.54619 333.36 \nL 282.54619 326.747274 \nL 259.429964 326.747274 \nz\n\" style=\"fill:#4c72b0;stroke:#ffffff;stroke-linejoin:miter;\"/>\n   </g>\n   <g id=\"patch_10\">\n    <path clip-path=\"url(#p72946da522)\" d=\"M 288.325246 333.36 \nL 311.441472 333.36 \nL 311.441472 318.26942 \nL 288.325246 318.26942 \nz\n\" style=\"fill:#4c72b0;stroke:#ffffff;stroke-linejoin:miter;\"/>\n   </g>\n   <g id=\"patch_11\">\n    <path clip-path=\"url(#p72946da522)\" d=\"M 317.220528 333.36 \nL 340.336754 333.36 \nL 340.336754 84.111092 \nL 317.220528 84.111092 \nz\n\" style=\"fill:#4c72b0;stroke:#ffffff;stroke-linejoin:miter;\"/>\n   </g>\n   <g id=\"patch_12\">\n    <path clip-path=\"url(#p72946da522)\" d=\"M 346.11581 333.36 \nL 369.232036 333.36 \nL 369.232036 22.731429 \nL 346.11581 22.731429 \nz\n\" style=\"fill:#4c72b0;stroke:#ffffff;stroke-linejoin:miter;\"/>\n   </g>\n   <g id=\"patch_13\">\n    <path clip-path=\"url(#p72946da522)\" d=\"M 375.011092 333.36 \nL 398.127318 333.36 \nL 398.127318 148.373225 \nL 375.011092 148.373225 \nz\n\" style=\"fill:#4c72b0;stroke:#ffffff;stroke-linejoin:miter;\"/>\n   </g>\n   <g id=\"patch_14\">\n    <path clip-path=\"url(#p72946da522)\" d=\"M 403.906374 333.36 \nL 427.0226 333.36 \nL 427.0226 112.257567 \nL 403.906374 112.257567 \nz\n\" style=\"fill:#4c72b0;stroke:#ffffff;stroke-linejoin:miter;\"/>\n   </g>\n   <g id=\"patch_15\">\n    <path clip-path=\"url(#p72946da522)\" d=\"M 432.801656 333.36 \nL 455.917881 333.36 \nL 455.917881 305.213525 \nL 432.801656 305.213525 \nz\n\" style=\"fill:#4c72b0;stroke:#ffffff;stroke-linejoin:miter;\"/>\n   </g>\n   <g id=\"patch_16\">\n    <path clip-path=\"url(#p72946da522)\" d=\"M 461.696938 333.36 \nL 484.813163 333.36 \nL 484.813163 287.410031 \nL 461.696938 287.410031 \nz\n\" style=\"fill:#4c72b0;stroke:#ffffff;stroke-linejoin:miter;\"/>\n   </g>\n   <g id=\"patch_17\">\n    <path clip-path=\"url(#p72946da522)\" d=\"M 490.59222 333.36 \nL 513.708445 333.36 \nL 513.708445 298.600799 \nL 490.59222 298.600799 \nz\n\" style=\"fill:#4c72b0;stroke:#ffffff;stroke-linejoin:miter;\"/>\n   </g>\n   <g id=\"patch_18\">\n    <path clip-path=\"url(#p72946da522)\" d=\"M 519.487502 333.36 \nL 542.603727 333.36 \nL 542.603727 276.219264 \nL 519.487502 276.219264 \nz\n\" style=\"fill:#4c72b0;stroke:#ffffff;stroke-linejoin:miter;\"/>\n   </g>\n   <g id=\"patch_19\">\n    <path d=\"M 63.231 333.36 \nL 63.231 7.2 \n\" style=\"fill:none;stroke:#cccccc;stroke-linecap:square;stroke-linejoin:miter;stroke-width:1.25;\"/>\n   </g>\n   <g id=\"patch_20\">\n    <path d=\"M 565.431 333.36 \nL 565.431 7.2 \n\" style=\"fill:none;stroke:#cccccc;stroke-linecap:square;stroke-linejoin:miter;stroke-width:1.25;\"/>\n   </g>\n   <g id=\"patch_21\">\n    <path d=\"M 63.231 333.36 \nL 565.431 333.36 \n\" style=\"fill:none;stroke:#cccccc;stroke-linecap:square;stroke-linejoin:miter;stroke-width:1.25;\"/>\n   </g>\n   <g id=\"patch_22\">\n    <path d=\"M 63.231 7.2 \nL 565.431 7.2 \n\" style=\"fill:none;stroke:#cccccc;stroke-linecap:square;stroke-linejoin:miter;stroke-width:1.25;\"/>\n   </g>\n  </g>\n </g>\n <defs>\n  <clipPath id=\"p72946da522\">\n   <rect height=\"326.16\" width=\"502.2\" x=\"63.231\" y=\"7.2\"/>\n  </clipPath>\n </defs>\n</svg>\n"
     },
     "metadata": {}
    }
   ],
   "source": [
    "plt.bar(personality_types, post_count)\n",
    "plt.xticks(rotation=90)\n",
    "plt.xlabel('Personality Type')\n",
    "plt.ylabel('Number of Posts')"
   ]
  },
  {
   "cell_type": "code",
   "execution_count": 26,
   "metadata": {},
   "outputs": [],
   "source": [
    "#Create spacy tokenizer that parses a sentence and generates tokens\n",
    "#these can also be replaced by word vectors \n",
    "def spacy_tokenizer(sentence):\n",
    "    tokens = parser(sentence)\n",
    "    tokens = [tok.lemma_.lower().strip() if tok.lemma_ != \"-PRON-\" else tok.lower_ for tok in tokens]\n",
    "    tokens = [tok for tok in tokens if (tok not in stopwords and tok not in punctuations)]\n",
    "\n",
    "    return tokens\n",
    "\n",
    "#create vectorizer object to generate feature vectors, we will use custom spacy’s tokenizer\n",
    "vectorizer = CountVectorizer(tokenizer=spacy_tokenizer, ngram_range=(1,1))\n",
    "classifier = LinearSVC()"
   ]
  },
  {
   "cell_type": "code",
   "execution_count": 27,
   "metadata": {},
   "outputs": [],
   "source": [
    "# reformat data into [(text, type)]"
   ]
  },
  {
   "cell_type": "code",
   "execution_count": 28,
   "metadata": {},
   "outputs": [],
   "source": [
    "# X_train, X_test, y_train, y_test = train_test_split(mb_df['posts'], mb_df['type'])\n",
    "X_train, X_test, y_train, y_test = train_test_split(vertical_post_df['posts'], vertical_post_df['type'])\n",
    "\n",
    "\n",
    "train = []\n",
    "test = []\n",
    "for i in range(len(X_train)):\n",
    "    train.append((X_train.iloc[i], y_train.iloc[i]))\n",
    "\n",
    "for i in range(len(X_test)):\n",
    "    test.append((X_test.iloc[i], y_test.iloc[i]))"
   ]
  },
  {
   "cell_type": "code",
   "execution_count": 29,
   "metadata": {
    "tags": []
   },
   "outputs": [
    {
     "output_type": "stream",
     "name": "stdout",
     "text": [
      "Accuracy: 0.25391445807632346\n"
     ]
    }
   ],
   "source": [
    "import time\n",
    "start_time = time.time()\n",
    "\n",
    "# Create the  pipeline to clean, tokenize, vectorize, and classify \n",
    "pipe = Pipeline([(\"cleaner\", predictors()),\n",
    "                 ('vectorizer', vectorizer),\n",
    "                 ('classifier', classifier)])\n",
    "\n",
    "# Create model and measure accuracy\n",
    "pipe.fit([x[0] for x in train], [x[1] for x in train]) \n",
    "pred_data = pipe.predict([x[0] for x in test]) \n",
    "# for (sample, pred) in zip(test, pred_data):\n",
    "#     print(sample, pred)\n",
    "print(\"Accuracy:\", accuracy_score([x[1] for x in test], pred_data))\n",
    "print(\"--- %s seconds ---\" % (time.time() - start_time))\n"
   ]
  },
  {
   "cell_type": "code",
   "execution_count": 30,
   "metadata": {},
   "outputs": [],
   "source": [
    "feature_names = vectorizer.get_feature_names()"
   ]
  },
  {
   "cell_type": "code",
   "execution_count": null,
   "metadata": {},
   "outputs": [],
   "source": []
  },
  {
   "cell_type": "code",
   "execution_count": 31,
   "metadata": {},
   "outputs": [
    {
     "output_type": "stream",
     "name": "stdout",
     "text": [
      "Precision: 0.25391445807632346\n"
     ]
    }
   ],
   "source": [
    "print(\"Precision:\", precision_score([x[1] for x in test], pred_data, average='micro'))"
   ]
  },
  {
   "cell_type": "code",
   "execution_count": 32,
   "metadata": {},
   "outputs": [
    {
     "output_type": "stream",
     "name": "stdout",
     "text": [
      "Precision: [0.14880425 0.22630085 0.13742072 0.21106367 0.07084469 0.07857143\n 0.11186441 0.11245675 0.27583305 0.28255876 0.23916172 0.25920813\n 0.16731518 0.17033312 0.16741742 0.18946436]\n"
     ]
    }
   ],
   "source": [
    "print(\"Precision:\", precision_score([x[1] for x in test], pred_data, average=None))"
   ]
  },
  {
   "cell_type": "code",
   "execution_count": 33,
   "metadata": {},
   "outputs": [],
   "source": [
    "cr = classification_report([x[1] for x in test], pred_data)"
   ]
  },
  {
   "cell_type": "code",
   "execution_count": 34,
   "metadata": {},
   "outputs": [
    {
     "output_type": "execute_result",
     "data": {
      "text/plain": [
       "['              precision    recall  f1-score   support',\n",
       " '',\n",
       " '        ENFJ       0.15      0.08      0.10      2198',\n",
       " '        ENFP       0.23      0.15      0.18      8053',\n",
       " '        ENTJ       0.14      0.07      0.09      2756',\n",
       " '        ENTP       0.21      0.14      0.17      8236',\n",
       " '        ESFJ       0.07      0.05      0.06       501',\n",
       " '        ESFP       0.08      0.04      0.05       570',\n",
       " '        ESTJ       0.11      0.07      0.08       484',\n",
       " '        ESTP       0.11      0.06      0.08      1072',\n",
       " '        INFJ       0.28      0.28      0.28     17646',\n",
       " '        INFP       0.28      0.48      0.36     21867',\n",
       " '        INTJ       0.24      0.21      0.22     12694',\n",
       " '        INTP       0.26      0.27      0.26     15540',\n",
       " '        ISFJ       0.17      0.08      0.11      2033',\n",
       " '        ISFP       0.17      0.09      0.11      3182',\n",
       " '        ISTJ       0.17      0.09      0.12      2399',\n",
       " '        ISTP       0.19      0.11      0.14      4040',\n",
       " '',\n",
       " '    accuracy                           0.25    103271',\n",
       " '   macro avg       0.18      0.14      0.15    103271',\n",
       " 'weighted avg       0.24      0.25      0.24    103271',\n",
       " '']"
      ]
     },
     "metadata": {},
     "execution_count": 34
    }
   ],
   "source": [
    "cr.split('\\n')"
   ]
  },
  {
   "cell_type": "code",
   "execution_count": null,
   "metadata": {},
   "outputs": [],
   "source": []
  }
 ]
}