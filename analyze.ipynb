{
 "metadata": {
  "language_info": {
   "codemirror_mode": {
    "name": "ipython",
    "version": 3
   },
   "file_extension": ".py",
   "mimetype": "text/x-python",
   "name": "python",
   "nbconvert_exporter": "python",
   "pygments_lexer": "ipython3",
   "version": "3.8.5-final"
  },
  "orig_nbformat": 2,
  "kernelspec": {
   "name": "Python 3.8.5 64-bit ('metis': conda)",
   "display_name": "Python 3.8.5 64-bit ('metis': conda)",
   "metadata": {
    "interpreter": {
     "hash": "1a0499c7a4a50afe9d0222578684e6b7d0a5b28e1d6168b6dad088fd14a794c9"
    }
   }
  }
 },
 "nbformat": 4,
 "nbformat_minor": 2,
 "cells": [
  {
   "source": [
    "## Imoprt modules"
   ],
   "cell_type": "markdown",
   "metadata": {}
  },
  {
   "cell_type": "code",
   "execution_count": 1,
   "metadata": {},
   "outputs": [],
   "source": [
    "import re\n",
    "\n",
    "# Get pandas and postgres to work together\n",
    "import psycopg2 as pg\n",
    "import pandas as pd\n",
    "\n",
    "# We are also going to do some basic viz\n",
    "import matplotlib.pyplot as plt\n",
    "import seaborn as sns\n",
    "\n",
    "from sklearn.feature_extraction.text import CountVectorizer"
   ]
  },
  {
   "source": [
    "## Initialize environment"
   ],
   "cell_type": "markdown",
   "metadata": {}
  },
  {
   "cell_type": "code",
   "execution_count": 2,
   "metadata": {},
   "outputs": [],
   "source": [
    "%config InlineBackend.figure_formats = ['svg']\n",
    "%matplotlib inline\n",
    "\n",
    "plt.rcParams['figure.figsize'] = (9, 6)\n",
    "sns.set(context='notebook', style='whitegrid', font_scale=1.2)"
   ]
  },
  {
   "source": [
    "## Functions"
   ],
   "cell_type": "markdown",
   "metadata": {}
  },
  {
   "cell_type": "code",
   "execution_count": 3,
   "metadata": {},
   "outputs": [],
   "source": [
    "def pg_fetch_all(conn, script):\n",
    "    cursor = conn.cursor()\n",
    "    try:\n",
    "        cursor.execute(script)\n",
    "        conn.commit()\n",
    "        contents = cursor.fetchall()\n",
    "    except (Exception, pg.DatabaseError) as error:\n",
    "        print(\"Error: %s\" % error)\n",
    "        conn.rollback()\n",
    "        cursor.close()\n",
    "        contents = 1\n",
    "    cursor.close()\n",
    "\n",
    "    return contents"
   ]
  },
  {
   "source": [
    "## Database connection"
   ],
   "cell_type": "markdown",
   "metadata": {}
  },
  {
   "cell_type": "code",
   "execution_count": 4,
   "metadata": {},
   "outputs": [],
   "source": [
    "# Postgres info to connect\n",
    "connection_args = {\n",
    "    'host': 'localhost',  # We are connecting to our _local_ version of psql\n",
    "    'dbname': 'myersbriggs',    # DB that we are connecting to\n",
    "    'port': 5432          # port we opened on AWS\n",
    "}\n",
    "\n",
    "connection = pg.connect(**connection_args)  # What is that \"**\" there??"
   ]
  },
  {
   "cell_type": "code",
   "execution_count": 5,
   "metadata": {},
   "outputs": [],
   "source": [
    "postgreSQL_select_Query = \"SELECT * FROM raw_data;\"\n",
    "\n",
    "myers_briggs = pg_fetch_all(connection, postgreSQL_select_Query)"
   ]
  },
  {
   "cell_type": "code",
   "execution_count": 6,
   "metadata": {},
   "outputs": [],
   "source": [
    "get_posts_by_type = \"SELECT posts FROM raw_data WHERE type = 'ENTJ';\"\n",
    "\n",
    "posts_by_type = pg_fetch_all(connection, get_posts_by_type)"
   ]
  },
  {
   "cell_type": "code",
   "execution_count": 7,
   "metadata": {},
   "outputs": [],
   "source": [
    "mb_df = pd.DataFrame(myers_briggs)\n",
    "\n",
    "post_list = [re.split('\\|\\|\\|+', post) for post in mb_df[1]]\n",
    "post_df = pd.DataFrame(post_list)\n",
    "post_df.insert(loc=0, column='type', value=mb_df[0])"
   ]
  },
  {
   "cell_type": "code",
   "execution_count": 8,
   "metadata": {},
   "outputs": [],
   "source": [
    "connection.close()"
   ]
  },
  {
   "source": [
    "### For a baseline - create initial word vector."
   ],
   "cell_type": "markdown",
   "metadata": {}
  },
  {
   "cell_type": "code",
   "execution_count": 12,
   "metadata": {},
   "outputs": [],
   "source": [
    "vectorizer = CountVectorizer()"
   ]
  },
  {
   "cell_type": "code",
   "execution_count": 14,
   "metadata": {},
   "outputs": [],
   "source": [
    "X = vectorizer.fit_transform(mb_df[1])"
   ]
  },
  {
   "cell_type": "code",
   "execution_count": 15,
   "metadata": {
    "tags": [
     "outputPrepend"
    ]
   },
   "outputs": [
    {
     "output_type": "stream",
     "name": "stdout",
     "text": [
      "oos', 'yvmcm3ik2dc', 'yvo4kvvpmqs', 'yvonne', 'yvqmdqxisqm', 'yvvtzgwywvo', 'yvxstzhzkxk', 'yvy', 'yvyunpl1l', 'yw', 'yw1eiqd', 'yw3chifny0g', 'yw4fpp8sazm', 'yw4maxwncke', 'yw4sivh', 'ywabgqbnzko', 'ywc4x5x', 'ywclw_xg7x4', 'ywdd1yeehlg', 'ywdhycstsui', 'ywk6dqodri0', 'ywkemo18ndq', 'ywp', 'ywszvhqf9qm', 'ywt', 'ywu27t2dhcw', 'ywx', 'yx0hyjo9auo', 'yx1l7a5wfxy', 'yx5xpo0lzvq', 'yx_kez_xwjs', 'yxbwawq9ew5ld3m7ct04ntt3ptyzma', 'yxdbmh', 'yxe4xbxvemg', 'yxeueuqip3q', 'yxev1gl0adk', 'yxfdawjdj2c', 'yxhf5zc', 'yxj0df7laye', 'yxnozsrayu0', 'yxqasa0', 'yxrwosw', 'yxs4lqppz6y', 'yxsr8fyfumg', 'yxubxatre7m', 'yxwblwjhwqo', 'yxwq0sdgmiw', 'yxxbhkjnrr8', 'yxxxn', 'yxypy2nia3g', 'yxz', 'yy', 'yy104', 'yy162', 'yy216', 'yy247', 'yy4cn9dvpii', 'yy67', 'yy96htb8wgi', 'yyaasss', 'yyagchm8rww', 'yyarnbza', 'yycyaclrpns', 'yydmetmjpdu', 'yyelz5q0z9w', 'yyeo', 'yyeyee', 'yygvfvvzlbi', 'yyhhhheeyyy', 'yyknbtm_yym', 'yyod5camrv8', 'yyoooouuu', 'yyou', 'yypek', 'yyr2geouemm', 'yyrlr_gv67q', 'yyuyfo2rd3q', 'yyvi', 'yyvkbnmgeeo', 'yyw3pptz_tq', 'yywllyy', 'yywx3vafi98', 'yyy', 'yyy2vsbzey', 'yyy4yavwsv0', 'yyyeeah', 'yyyy', 'yyyyeah', 'yyyyeeeeeeeeaaaaaaaaaaaaaaa', 'yyyyesssss', 'yyyyyyyyyyyyyyyeeeeeeeeeeessssssssssss', 'yyzeuwiltwe', 'yz', 'yz43r0evn9a', 'yz9x1aa', 'yzc4hfk5p3g', 'yzcg1ime5yc', 'yze', 'yzgayatpq4i', 'yzgxg_7kvi8', 'yziummtz9mm', 'yzivj71yrik', 'yzizr', 'yzm48hmueya', 'yzmo', 'yzpc0j', 'yzqmargshxg', 'yzs3eadi2pq', 'yztuburdaya', 'yztxfcandx0', 'yzv4iyrixrlqvj6ifi0ickehxa', 'yzv5x', 'yzwlxbg34y', 'yzz29crg4hkrk', 'yö', 'yīnyáng', 'z0', 'z040ruqnsac', 'z0fqnq520q8', 'z0gfrcfm', 'z0gkgpobgpy', 'z0ipwtkpx7w', 'z0kgaz6hym8', 'z0mg', 'z0o_vycsik8', 'z0sffhfjwgi', 'z0tjdaakx', 'z121', 'z135v3zxirryyrgnr23wfbmirmyhebma104', 'z151', 'z192', 'z1__6ft9y5c', 'z1a0ujlg', 'z1bzp1wr234', 'z1dqjzbgptq', 'z1gxj7mj2uy', 'z1lm12h6no4', 'z1mwuphappu', 'z1ponhyb3k4', 'z1qpnszdraq', 'z1rymzq8c9q', 'z2', 'z247', 'z26bvhod_sg', 'z28', 'z2a', 'z2hla5kdrca', 'z2iv9gxhhwm', 'z2lztdrfrcw', 'z2vffkmufko', 'z2xevs4wqde', 'z3', 'z30y9pzlkhi', 'z33b0p', 'z3en9u5n2q4', 'z3fjxdsa', 'z3g621cw770', 'z3ncdwygugq', 'z3oux1ln__4', 'z3phulqa9qc', 'z3u2slmynrq', 'z3uyowj4lyolw', 'z3w8j', 'z3wv5qf94ea', 'z3x_gomcj4i', 'z3ylp64', 'z4', 'z460', 'z46peespvwi', 'z48nmdwbquw', 'z49_1ykpgpe', 'z4f4', 'z4f4oy2m_og', 'z4ifssg1hao', 'z4ih3jvrrpe', 'z4kijmv_f', 'z4pkzz81m5c', 'z4tll', 'z52j', 'z555uadl', 'z571byenbpq', 'z59qncx880c', 'z5opyfcbgwc', 'z5ow0xop_wi', 'z5u9qriy46i', 'z5uzpjev4m', 'z5vzovv8cpk', 'z5wpcugvz34', 'z63lmlngyymd1lwbcdyoxe6', 'z66rdvkak4w', 'z6cahqecssc', 'z6gg3tkdblk', 'z6jtlanqiia', 'z726opwcnje', 'z77', 'z79pgpn357g', 'z7bbc2srjww', 'z7buqfuhsrm', 'z7caw2n', 'z7kmw31nrdu', 'z7mc8lw5e9q', 'z7nekceeryg', 'z7nzprbc5ns', 'z7pebdb8r31z', 'z7pmavkq1si', 'z7rxl5kspjs', 'z7s', 'z7uno66q9w', 'z7wsbqoijbo', 'z7yepnyz', 'z81lraap1ey', 'z833', 'z88yeuh', 'z8ajkog', 'z8enam', 'z8exaxoujrq', 'z8qktmh367w', 'z8rlibl', 'z8uy79zqeak', 'z8z9opoisau', 'z8zqflw6hyg', 'z9', 'z922by9_6fw', 'z936l', 'z942dtfndyg', 'z97_bh_dwc4', 'z98iixzrgvo', 'z9_s8nrdery', 'z9fmoc0ofgc', 'z9hyesclm8k', 'z9iodjdi3ga', 'z9o', 'z9pwruntlaw', 'z9pzsny3xj0', 'z9rytss', 'z9ubkw4b0wq', 'z9vlanmd374', 'z9y4ks5', 'z_baphdn974', 'z_bpel1idr4', 'z_c1vze_dai', 'z_gi_sp0uvi', 'z_h2x9z94qk', 'z_ittkae130', 'z_johnathan', 'z_na437vw6s', 'z_nvvmucg8', 'za', 'za2pjncakua', 'za9otsxj9yw', 'zaalbar', 'zaara', 'zab5ac9yhy0', 'zabasn', 'zaboomafoo', 'zabuza', 'zac', 'zach', 'zachariah', 'zacharius', 'zachary', 'zachęcać', 'zack', 'zacs40dnt40', 'zadg', 'zadpco6zn9i', 'zadriela', 'zadude', 'zaf6p4obmli', 'zafon', 'zafree', 'zaftig', 'zagaquttlpg', 'zagging', 'zagreb', 'zagur6wzyt8', 'zah3qk5qh40', 'zahun5rqodk', 'zai5s', 'zaikowski', 'zailla', 'zaiya', 'zak', 'zakir', 'zakk', 'zaknafein', 'zakowski', 'zaks', 'zal', 'zal9hphbv4k', 'zala', 'zalando', 'zaleq79ult8', 'zales', 'zalithian', 'zalla', 'zallla', 'zalnrtcpclw', 'zamaer', 'zambia', 'zameen', 'zamyatin', 'zanah0dia', 'zanahnpdzk', 'zanardi', 'zanarkand', 'zandec5fa4u', 'zandt', 'zane', 'zang', 'zangetsu', 'zangulus', 'zanimus', 'zaniness', 'zankarland', 'zankoku', 'zankyou', 'zannos', 'zanona', 'zany', 'zanyu200b', 'zaos', 'zap', 'zap2it', 'zapad', 'zapdos', 'zaphod', 'zapp', 'zappa', 'zapped', 'zappers', 'zapping', 'zappuvh', 'zaps', 'zaptos', 'zara', 'zaragoza', 'zarathoustra', 'zarathustra', 'zaratustra', 'zardoz', 'zardrell', 'zaria', 'zarocks', 'zatanna', 'zatch', 'zato', 'zaveid', 'zavier', 'zavpwvrpznm', 'zawsze', 'zaxuzh0cbhm', 'zay', 'zayel', 'zayn', 'zayv3d9fsw8', 'zayvxi_drd4', 'zaz_nn0kfnc', 'zazen', 'zazi', 'zazie', 'zazker', 'zazqyucyxtk', 'zazzle', 'zazzy', 'zb289srffga', 'zb4ukrs2gak', 'zb_rupoxwce', 'zbay8wnoztq', 'zberhs', 'zbg5z6d2ek0', 'zbgbkqcbv6a', 'zbhx8tv90tg', 'zbillyz', 'zblpa', 'zbook', 'zbq0', 'zbrush', 'zbsjnb2nvkw', 'zbtg44', 'zbwzxfki', 'zbyg39ic4', 'zbyva7pan1a', 'zc', 'zc4e', 'zc4wo60f3us', 'zc8hbsm1zvo', 'zc_nm9_jn', 'zcache', 'zcaygk7', 'zccaaw9is', 'zcdozpr', 'zcecqjvovky', 'zcfd1kfmsqe', 'zcfn7exo', 'zchxk2rdr9m', 'zcibsvfwsym', 'zcilpear48i', 'zcjjmnhoibi', 'zcktyjcoshe', 'zcm32rotlzi', 'zcoqr9bwx1y', 'zcoweoz6jpm', 'zcqcor9jnw8', 'zcts0tjtilc', 'zcucbcl8kkq', 'zcvn', 'zcvqjh0qemc', 'zcyy2wlzi8q', 'zczmbnlks', 'zd', 'zd037vsag2i', 'zd05s', 'zd5lhj2il78', 'zd8j0rlwy3mnb7emmt7rg', 'zda__2tkoiu', 'zday', 'zday2010', 'zdblwei0zce', 'zdcth9nndea', 'zdd', 'zdd049n59kw', 'zddhino58ss', 'zdenek', 'zdf7afgfq8q', 'zdgmubhanw', 'zdgqb19eesi', 'zdme', 'zdmqlez', 'zdnvtuev9te', 'zdorp', 'zdpcuuct170', 'zdqis_fqftg', 'zdravím', 'zduq9bbr3ba', 'zdwdqbdbd5c', 'zdwnhxgo0', 'zdwotnlyz10', 'zdxqi', 'zdxxi19_7ie', 'zdzfcdgpl4u', 'zdzislaw', 'zdzisław', 'ze', 'ze1yqcd', 'ze_9', 'zeaivjoh1fy', 'zeal', 'zealand', 'zealand2', 'zealander', 'zealanders', 'zealot', 'zealotry', 'zealots', 'zealous', 'zealously', 'zealousness', 'zealuuuuund', 'zebgcocxlga', 'zebiqvs', 'zebra', 'zebracareers', 'zebrascientific', 'zebunnyqueen', 'zech', 'zeclcafjyhg', 'zecora', 'zedarko', 'zedenleer', 'zedisdead', 'zedong', 'zeds', 'zedsdead', 'zee', 'zeek', 'zeeland', 'zeemaps', 'zeep', 'zees', 'zef', 'zef5vfkplzw', 'zegaray', 'zegnjb_7phi', 'zeh', 'zehetmair', 'zei', 'zeichen_393', 'zeiram', 'zeit', 'zeitgeist', 'zeke', 'zeko04', 'zelakon', 'zelbess', 'zelda', 'zeldas', 'zeldon', 'zeldvpdlyus', 'zelemont', 'zelgadis', 'zella', 'zelo', 'zelz', 'zem', 'zen', 'zen0202', 'zenarchist', 'zendos', 'zenfex', 'zenith', 'zenithx', 'zenity', 'zenji', 'zenme', 'zenned', 'zenni', 'zennioptical', 'zeno', 'zenobia', 'zenpencils', 'zenryoken', 'zentangle', 'zenwerx', 'zenyatta', 'zeon', 'zeot66v4ehg', 'zep', 'zephellnoka', 'zephirus', 'zephyr', 'zeppelin', 'zeptometer', 'zeqps2k4t563atbs730zvzq12aw', 'zequals', 'zer', 'zer0thefool', 'zeref', 'zerg', 'zerkalo', 'zero', 'zero11', 'zero_schiffer', 'zerobs', 'zerochan', 'zeroed', 'zeroes', 'zeroescape', 'zerohedge', 'zeroing', 'zerooneinfinity', 'zerooooo', 'zerophilia', 'zeropsia', 'zeros', 'zerosum', 'zerozerozerozero', 'zes3njqyjok', 'zest', 'zestiria', 'zet', 'zeta', 'zeth', 'zeth006', 'zethry', 'zetokfqjg3q', 'zeus', 'zevon', 'zevran', 'zewology', 'zexiness', 'zexy', 'zf0l0uo1lro', 'zf65', 'zfchq0hhfwg', 'zfcpk', 'zfdfaagffsy', 'zfenrw3', 'zfh3tau', 'zfjbqd3m7ja', 'zfkej', 'zfkqgjq', 'zfnhx5k9n', 'zfond8hifjk', 'zfqbrlogguc', 'zfr_', 'zfs2am1ouog', 'zfvew304z88', 'zfw4', 'zfxjkfzysbi', 'zg9i', 'zg_k5csykhg', 'zgbof4uppfs', 'zgdz5kj', 'zgeek', 'zggd_7ptsi', 'zggxvtxfo', 'zghsjimheoo', 'zgix5dc4oys', 'zgkwjdi', 'zgkymdezlza0lze4l2q4l3dpemfyzc42mgrlzc5nawykcal0ahvtygkxmjawedk2mda', 'zglpztq', 'zgojzdlsuca', 'zgphzwhuvng', 'zgpyrhck3u', 'zgqhggh', 'zgtdeh5s2vu', 'zgtnrujzvbu', 'zgu', 'zgucfjhyvem', 'zgwiped51hi', 'zgxl2unr7bk', 'zgycsxd', 'zh2w0iym0gk', 'zh3afvnobcz4k', 'zh8', 'zhaan', 'zhao', 'zhcojf4hely', 'zhdnmmfjgyk', 'zhec3thwlzo', 'zhen', 'zheng', 'zhexf94ljtw', 'zhfngsodamk', 'zhg', 'zhiang', 'zhivago', 'zhizni', 'zhongguoren', 'zhongnaomi', 'zhongtan', 'zhongwen', 'zhoumo', 'zhpgds3ozde', 'zhq', 'zhqkrb1nf', 'zhqochoojme', 'zhrxldosmxy', 'zhuang', 'zhuangzhuang', 'zhuangzi', 'zhubjpdetmc', 'zhuge', 'zhukov', 'zhuo', 'zhvwb', 'zhxa', 'zhxnm1', 'zhxuxolerxa', 'zi', 'zi0gm3pn', 'zi0pad6nrdg', 'zi0zw', 'zi14', 'zi1jtuhvgsk', 'zi25ggve', 'zi6mvziz3ca', 'zi8shaosqzi', 'zi8vj_lmxqi', 'zi_xlobdo_y', 'ziauddin', 'ziba', 'zibziby', 'zidane', 'zidler', 'zieg', 'ziegler', 'zieh', 'zies', 'zig', 'ziggurat', 'ziggy', 'ziggystardust', 'ziggysturdust', 'zigibw5', 'zigsam', 'zigzag', 'zihelrcklsu', 'zii3efx', 'ziistem', 'zijfbripuvg', 'zijn', 'zika', 'zilch', 'zilchopincho', 'zilla', 'zillamag', 'zillion', 'zillions', 'zillow', 'zilus', 'zim', 'zimbabwe', 'zimbabwes', 'zimbardo', 'zimbio', 'zimmer', 'zimmerman', 'zin', 'zinavoy', 'zinc', 'zinda', 'zine', 'zine_images', 'zinerva', 'zing', 'zingen', 'zingy', 'zinn', 'zinoniev', 'zio', 'ziobello47', 'zion', 'zionx92s', 'ziop9k5qayu', 'zip', 'zipline', 'ziplining', 'zipped', 'zipper', 'zippers', 'zipping', 'zippo', 'zippy', 'zipqwjfqzeq', 'zips', 'zipzapmac', 'zir7pk2', 'zircon', 'zis', 'ziscrnechbc', 'zissou', 'zit', 'zither', 'zitronetee', 'zits', 'zitten', 'zitty', 'ziua', 'ziunqozb44s', 'ziv', 'ziv4pouzaqo', 'ziva', 'ziwosa', 'zixghu5u1v4', 'zixwzbwst_w', 'ziyenrbbkbw', 'ziyjijo', 'ziz5p3zkete', 'zizek', 'zizek1', 'zizi', 'zj0mcbsxy7e', 'zj1fifk3bbg', 'zj4iqitsjsy', 'zj4wqywe1xy', 'zj79lbzyjvw', 'zjdnsp1qja', 'zjgq6', 'zjgshcgbh2o', 'zjhnzv917iq', 'zji0szal1f4', 'zjlyxftudf0', 'zjojutradm0', 'zjqptmjmhbnn6', 'zjtodxbqoai', 'zjw5jrccfmg', 'zjyseraxegi', 'zjzjmugx5om', 'zk1s5dws', 'zk7ojytg04q', 'zk8poop_vzy', 'zkayeeizq9a', 'zkcookypx', 'zkcrsn9oxgq', 'zkczx8z9i', 'zkepai', 'zkfyoavpc4i', 'zkidjjy9lm', 'zkivgrlezdk', 'zkjdw07br7u', 'zklaoksixuy', 'zkllb3yc', 'zklnhuzh9uy', 'zklqr1xj32q', 'zkm9odw4p6u', 'zkmvjd', 'zkt1dkq', 'zky', 'zkyuu', 'zl', 'zl1f4sf8d10', 'zl4mgwlzuac', 'zla5idnpghc', 'zlh4gn', 'zlhie9t85b4', 'zliolem6', 'zlip6tki', 'zliv', 'zlm7rggp', 'zlnhpe_drsu', 'zlosu870j8e', 'zlot0i3zykw', 'zlrl1_4ws', 'zlw4uet8b4g', 'zlwa', 'zlwrhnygwcc', 'zlyszaunyfg', 'zm', 'zm0asfj_x20', 'zm1izscngz4', 'zm_vz_3velu', 'zma', 'zmayvnm_700wa_0', 'zmbtvuulm98', 'zmbw8oycjre', 'zmc6kd3i40q', 'zmeyocnseik', 'zmhqqxyab8g', 'zmio2nttex8', 'zmirak', 'zmkndjez', 'zmlzp1vcano', 'zmmdir92xzu', 'zmrlaeat', 'zmwhbjnv05i', 'zmy8mg4_3j4', 'zmya', 'zmyv9bsidbe', 'zmz08v4gfqg', 'zmzwwgrrv50', 'zn27ps', 'zn4smpj', 'zn9nfjb3xxe', 'znachok', 'znayu', 'zndmornr3l4', 'zne', 'zne3uyj9grg', 'zneyjyhtyjz3wuq2', 'znflqnfp2qu', 'zngcyggtf8m', 'znhmskwqccq', 'znjgisqfbas', 'znlubalh2zy', 'znnm6ryqb7q', 'znpek7sdlze', 'znqii6mb8hw', 'znr5x0s3hc8', 'znrfel8npfw', 'znrncf90', 'znrnck3ywqe', 'zntent', 'znw4qhf', 'znxar07_9ya', 'znz78c', 'znzwuslkz5u', 'zo', 'zo0ozsjxu', 'zo2', 'zo2gqtw3rbw', 'zo3gwigzh3a', 'zo3pfnldld0', 'zo6gim9uav0', 'zo8a3p', 'zoals', 'zobey', 'zobo500dir', 'zobot', 'zobster', 'zocgpzvhwlk', 'zodaris', 'zodiac', 'zodiacal', 'zodiacs', 'zoe', 'zoedoeslife', 'zoella', 'zoem', 'zoet', 'zoey', 'zofjkl', 'zog', 'zogna3cnark', 'zohan', 'zohar', 'zoidberg', 'zoidbergs', 'zoids', 'zoink', 'zoith', 'zola', 'zoloft', 'zolphc562wa', 'zoltan', 'zolxpa4vw9m', 'zombi', 'zombie', 'zombie0519a', 'zombiecide', 'zombiefishy', 'zombiefying', 'zombiehugs', 'zombieland', 'zombies', 'zombiesintelligently', 'zombiessss', 'zombification', 'zombified', 'zombify', 'zombifying', 'zombilicioius_cupcakes', 'zombina', 'zomboy', 'zomby', 'zomfg', 'zomfgum5xww', 'zomg', 'zomg_7n5vuy', 'zomgitsemma', 'zompist', 'zon9lzn5y3c', 'zone', 'zoned', 'zones', 'zoneshot', 'zong', 'zonig', 'zoning', 'zonzcbxzjqi', 'zoo', 'zoo7depcd9w', 'zoobicknizer', 'zoodles', 'zooey', 'zooeyt', 'zoof', 'zoog_destroyx_2', 'zookeeper', 'zookeepers', 'zoolander', 'zoologist', 'zoology', 'zoom', 'zoomed', 'zooming', 'zoomzoom', 'zoophile', 'zoophilia', 'zoos', 'zoosk', 'zootopia', 'zooxanthellae', 'zoquaro', 'zora', 'zorak', 'zord', 'zoriel_05', 'zork', 'zorn', 'zoro', 'zoroark', 'zoroaster', 'zoroastrianism', 'zoroastrians', 'zorro', 'zoruapz2ru4', 'zoruuqjd81m', 'zos0p3ahgta', 'zosgkwqt9pg', 'zosio', 'zosio913', 'zosios', 'zostać', 'zotoh', 'zou', 'zougfplbtkk', 'zouren', 'zousojyii94', 'zowee', 'zowie', 'zox0b4v9vzy', 'zoxp2tmmv7y', 'zoywc9', 'zp0t0bhqujy', 'zp0votlkz5c', 'zp2atzjdeas', 'zp50ewh31e4', 'zp6l', 'zp8st5vysjy', 'zp9dbeim7ns', 'zp_wla6yotw', 'zpamdxc6cqi', 'zpamxmzgw1w', 'zpawlqrjwy', 'zpbzbz6gfwe', 'zpdqjni4ohu', 'zpgecamfttq', 'zpjyh', 'zpomyri0w', 'zpp5bvtr2dg', 'zppjcqaqxyo', 'zpquulgi9mc', 'zpuyjpkg9ky', 'zpwez9hwmgk', 'zpwmdzolpo8', 'zpzsx3adhpw', 'zq', 'zq9wawt', 'zqadjtapi1y', 'zqgo2owv0iu', 'zqit4kgkbeq', 'zqkdwymdane', 'zqkz_wik5ms', 'zqmc1t9rukk', 'zqnfmzoi8ma', 'zqnj3thcdco', 'zqo4pvn', 'zqplpqaq5vu', 'zqqja7jgxco', 'zqr7vf3xsvo', 'zqskjauh54', 'zqt3iu9wr5e', 'zqtiqv', 'zqvk2efzst0', 'zqwccjkvhhk', 'zqwftpqn5kc', 'zqwpjngduiq', 'zqxngcm5btu', 'zqxxa', 'zqyb_zv51hm', 'zqyjj5ucg8', 'zr5jnmg_e6c', 'zr7fuixb7p8', 'zr7kera5bqy', 'zr_x6prasho', 'zraqmkuki', 'zrat4', 'zrbbgw2rbdg', 'zrceq_jfefm', 'zrdnf6xyvu', 'zrdsvdh', 'zrjrjgiikn8', 'zrlyckgjqpe', 'zrnd63dah8o', 'zrnrled2zfs', 'zrronglmeic', 'zrsuvtmvcee', 'zrtkmdlum2w', 'zruhxevdbqi', 'zruie4oscdg', 'zrvmcqgcxva', 'zrzmhu_4m', 'zs', 'zs1', 'zs3aucm8bx8', 'zs6bchq', 'zsaj0l4obhm', 'zsb', 'zscd5xcu6cm', 'zscnlqy8ib0', 'zsefrum', 'zsh1l9bjllw', 'zska61esq_c', 'zskex', 'zskp2goiadq', 'zslb0ov', 'zspabbb1ywk', 'zsqf3p8orde', 'zsrqex3_2q0', 'zsrtyb5o', 'zster', 'zstlbeu', 'zstspukt5ci', 'zswpsjvg', 'zsxgzem_tvo', 'zsyb3tew87s', 'zsyjs_vjfkw', 'zsyq', 'zszylu4kjii', 'zt26cswcnao', 'zt6oebewt8g', 'ztabyog5x3o', 'ztat', 'ztidn2dbyby', 'ztjolzg', 'ztk3fchyrjy', 'ztl4t_nvghy', 'ztmf2v59cti', 'ztmzkmdr154', 'ztommi', 'ztpi', 'ztsu_m0l4co', 'ztthespmdoy', 'zttjqb89v6u', 'ztu4qwbqpjy', 'ztvmib1t4t4', 'ztwctqieswm', 'zu', 'zu3472bvdhi', 'zu4jcskvj_a', 'zu4mj9dpui', 'zu4xpduf84a', 'zu5zy0', 'zu7', 'zu_s', 'zubs', 'zubz', 'zuc77dn8me0', 'zucchini', 'zuchinni', 'zucieuiux4s', 'zuckerberg', 'zuckerburg', 'zuflex', 'zui', 'zuicker', 'zujava', 'zujuyiweht8', 'zukav', 'zukglzzoy8s', 'zuko', 'zulban', 'zullen', 'zulnex', 'zulu', 'zuly', 'zum', 'zumba', 'zun', 'zun4rk', 'zung', 'zunga', 'zupimages', 'zuqiufz5rdw', 'zuqk6t2esng', 'zure', 'zus3t59c891z', 'zusak', 'zusammenhängend', 'zutam5etveo', 'zuul', 'zuuobgsb0no', 'zuvk', 'zuwut6m5rou', 'zuxfun0okes', 'zv0ipuihi1i', 'zv0l13a', 'zv4qkmfznbu', 'zv5uthrx0a4', 'zv7wbobczki', 'zvahl', 'zvaijl', 'zvaxa', 'zvbn86xtrqs', 'zvcamxws4du', 'zvcv0u', 'zvdblbz', 'zvf_b25acls', 'zvgl8spm1v8', 'zvkkrbnzaxk', 'zvkzbuugr_i', 'zvn0i', 'zvoxgxlasac', 'zvq9r6r6qay', 'zvsglhwr16o', 'zvtrh', 'zvtwvwqbzm4', 'zvuyyhykbhk', 'zvwcdnkpkpe', 'zvxlrwzex1c', 'zvz8jtz3f5s', 'zw', 'zw0dfsczfq4', 'zw1y7iw9zkc', 'zw44fe6sved8', 'zw47_q9wbbe', 'zw64wzb7rkk', 'zw_rctrfkzc', 'zwa0kuc36cm', 'zwamouyrnbg', 'zwanglos', 'zwangos', 'zwbw', 'zwei', 'zweig', 'zwette', 'zwfggc0vozm', 'zwgsx0', 'zwgwrrilz68', 'zwitterion', 'zwjm', 'zwmrfgj0mzi', 'zwoeowmhg0i', 'zwow', 'zwp767rkhhu', 'zwq', 'zws', 'zwsnzahtoto', 'zwzy5q_m5ho', 'zx', 'zx06inw2hk4', 'zx4hjq6kwo0', 'zx9oxa', 'zxbtch2g1ve', 'zxhgopie9moax3qrjkltoqgtk0m', 'zxhuso4otg4', 'zxiokqe', 'zxjlaowf2p8', 'zxjwo2fq16c', 'zxlvisd70ci', 'zxnfd1fidzm', 'zxsqaxx_ao0', 'zxsxhyv3dhw', 'zxuklu5xare', 'zxvjinymzqy', 'zxvzzticvjs', 'zxwvw8bjj8k', 'zy', 'zy6cmmtlccq', 'zybyuih68xa', 'zycv1k4qr7o', 'zydopg2k', 'zydrate', 'zyf0ywujcqk', 'zygomaticus', 'zygomorphic', 'zygon', 'zygote', 'zygotes', 'zyhryis509a', 'zyjov2k', 'zylapvi_i2u', 'zylinder', 'zylx0qc_gkc', 'zyn', 'zynga', 'zynthax', 'zynthaxx', 'zypkh8gpdps', 'zyrtec', 'zyswyijdtpg', 'zytdg6qbl4m', 'zywcmcb0xmw', 'zywcr17feei', 'zyxwvutsrqponmlkjihgfedcba', 'zyzz', 'zz', 'zz136', 'zz20', 'zz200', 'zz205', 'zz215', 'zz290', 'zz5lpwo', 'zz8by', 'zz8cdailcqc', 'zz96', 'zzaib9jycxi', 'zzaprng5p', 'zzbrandon', 'zzc3hxa50cs', 'zzckd0h', 'zzdykmqaqno', 'zzf0f7b', 'zzfauscrxcc', 'zzfqwxeqyai', 'zzgcdq', 'zzh0snsaaz4', 'zzhk62qsa_o', 'zzkuzrjuzq0', 'zzlbsnb9ugu', 'zztr4uhguhq', 'zztxxpgcjfk', 'zzu2ubrgb9g', 'zzvs', 'zzvuhub', 'zzw8daeghk8', 'zzward', 'zzyfcys1alm', 'zzz', 'zzzquil', 'zzzr_ika75o', 'zzzvader', 'zzzz', 'zzzzero', 'zzzzz', 'zzzzzzzz', 'zzzzzzzzzzz', 'zzzzzzzzzzzzzzzzzzzzzzzzzzzzzzz', 'ºノ', 'àmelie', 'ágætis', 'álfablót', 'ánd', 'ásatrú', 'ástartöfraru200e', 'átµ', 'âx80', 'âx80x93', 'âx80x94', 'âx80x94when', 'âx80x98a', 'âx80x98biologically', 'âx80x98mental', 'âx80x98not', 'âx80x98quirkyâx80x99', 'âx80x98solvedâx80x99', 'âx80x98the', 'âx80x98triggeringâx80x99', 'âx80x9cif', 'âx80x9ctestâx80x9d', 'âx80x9cthe', 'âx80x9cwee', 'âx86x90factslidesâx86x92', 'âx99', 'ãx83x84', 'älska', 'älvorna', 'ändå', 'ännu', 'är', 'ärks', 'ärzte', 'även', 'äöäß', 'äöüßäöüßäöüßäößüäößüöäßüöäßöüßäößüöäßüößäöüßöäßüöäßö', 'åhå', 'åmål', 'året', 'åsa', 'ænema', 'ç___ç', 'ç_ç', 'ça', 'è_é', 'école', 'écrit', 'écrits', 'écureuil', 'élysées', 'ém', 'éminence', 'éowyn', 'éponine', 'équipage', 'état', 'étoiles', 'études', 'étudie', 'été', 'éxodo', 'één', 'êtes', 'être', 'íx9cêx96', 'íø', 'ðx90ð', 'ð³ð', 'ðµðºñx81ðµð¹', 'ðµð¼ð½ð¾ð¹', 'ðºð', 'ðºð¾ð', 'ðºð¾ð²', 'ð¾', 'ð¾ð³ñ', 'ð¾ð½ð', 'ð¾ñ', 'ñx81ð', 'ñx81ð¾ñ', 'ñx81ñ', 'ñœð½ð', 'órkhis', 'ôl', 'öde', 'öffentliches', 'ögonlocken', 'ökpfikjoijtrf', 'överhuvudtaget', 'öwö', 'öyster', 'øne', 'über', 'überhaupt', 'überhot', 'übermensch', 'þórr', 'ăl', 'ćerulean', 'čapek', 'české', 'čeština', 'činjenicom', 'đoković', 'łukasiewicz', 'ōtoribashi', 'ŏ_ŏ', 'św', 'švejk', 'żuławski', 'ưng', 'ǝq', 'ǝɟıן', 'ǝɹnɔǝsuı', 'ǝɹıʇuǝ', 'ǝʌ', 'ǝןqıɹɹǝʇ', 'əßfp', 'ɟı', 'ɯɐ', 'ʇsnظ', 'ʇı', 'ʇɐɥʇ', 'ʇɥbıɹ', 'ʍou', 'ʎɯ', 'ˆthere', 'ˆthis', 'ˆˆ', 'ˈfən', 'ˈkeməstrē', 'ˈmis', 'ˈmo', 'ˈnēəˌlizəm', 'ˈnīəˌlizəm', 'ˈsnärkē', 'ˈstjuːpɪd', 'ˈthēərēˈthi', 'ˈtruːɪz', 'ˈtəːdʒɪvəˌseɪt', 'ˈtɪmɪd', 'ˈvəːseɪt', 'ˌga', 'ˌrɪəˈlɪstɪk', 'άψογα', 'αμήν', 'γλαυκώπις', 'διαθέσιμη', 'ειναι', 'ηello', 'θα', 'ιs', 'λίγα', 'λεπτά', 'μνημοσύνη', 'μυστικός', 'οἶδα', 'οὐδὲν', 'πολυβιος', 'σε', 'στρατηγίαx97stratēgia', 'συντηετιψ', 'σωφροσύνη', 'τhank', 'φωτογραφία', 'аsshole', 'абвгдежзийклмнопрстуфхцчшщъьюя', 'бессмысленно', 'было', 'го', 'голубой', 'добро', 'жарко', 'женщин', 'жнееш', 'за', 'ивана', 'критика', 'люблю', 'мечты', 'мир', 'на', 'планината', 'пожаловать', 'помоћ', 'послато', 'привет', 'притури', 'противном', 'разума', 'русский', 'русских', 'русском', 'са', 'се', 'сееш', 'случае', 'соционика', 'спасибо', 'стефка', 'субтитры', 'съботинова', 'тапатока', 'тоа', 'тоже', 'уз', 'ура', 'форум', 'чистого', 'што', 'это', 'язык', 'языке', 'ќе', 'איפור', 'אל', 'אשרי', 'את', 'בבל', 'בת', 'גמורך', 'הסלע', 'השדודה', 'ונפץ', 'לך', 'לנו', 'ןǝǝɟ', 'עלליך', 'שגמלת', 'שיאחז', 'שישלם', 'أتحدث', 'أكبر', 'أنا', 'است', 'العربية', 'الله', 'با', 'تو', 'توست', 'جدا', 'جيد', 'حاالك', 'دنیا', 'دو', 'دیگر', 'روز', 'روزی', 'سيدي', 'علیه', 'قرينu200e', 'كيف', 'مث', 'مرحبا', 'مشو', 'مغرور', 'مگرد', 'ناامید', 'يا', 'که', 'یک', 'ಠ____ಠ', 'ಠ_ಠ', 'ಠ_ರ', 'ಠ益ಠ', 'ಠ益ಠლ', 'ಡuಡ', 'ಥ__ಥ', 'ಥnಥ', 'ಥuಥ', 'ຈل', 'ἓν', 'ἔρεβος', 'ὅτι', 'ああいや', 'あまりにもタイトな夜に私の馬私ワニ', 'あまりにアニメを見ることしませんでした', 'ありがとうu3000ございますu3000トレーニu3000さん', 'いいえ', 'いらしゃいませ', 'おじゃましました', 'おじゃまします', 'おせわに', 'お願いします', 'これから', 'こんにちは', 'しかたがない', 'ぜんしょいたしますx94', 'ちいさい', 'なります', 'はじめまして', 'は人斬', 'は狼', 'もちろん', 'よろしくお願いします', 'り抜刀斎', 'わざわざですね', 'サラさん', 'サラです', 'ノthey', 'ノд', 'ミュージック', 'レモンの勇気', 'ㅿx95', '一_一', '中文是太易', '二つ便利さん', '人斬', '仙人掌花', '但我会说汉语', '但是不太容易呢', '你好', '你是不是中国人', '你是中国人吗', '你髒髒', '光の聖人', '吉祥天', '四野都是一眼望不到头的漫漫白雪', '因為你', '大地', '大智', '大笑', '好了', '好的', '安全ですか', '実は', '就拿我', '很好', '我不是', '我喜爱冬天', '我学习汉语', '我很高兴', '我才不像你一把吞', '我是你的', '我是英国人', '新選組', '方大同', '日本語', '日本語がわかりますか', '曉美', '柳暗花明', '欢迎', '欢迎欢迎', '然うして', '王菀之', '砂月', '私の馬はきつすぎる私のワニの夜', '美しい夢', '返事を待っている', '違いますよ', '関西弁', '陰陽', '龍が如くu3000', '보아', '사랑', '아저씨', '안녕하세요', '유재석', '０００', 'ａｍu3000ｉu3000ｄｒｅａｍｉｎｇ', 'ｃｙｂｅｒｐｕｎｋ', 'ｄａｙｕｍ', 'ｅｘａｃｔｌｙ', 'ｆｕｎ', 'ｈｅu3000ｉｓu3000ｔｈｅu3000ｍｏｓｔu3000ｅｓｔｐu3000ｅｓｔｐu3000ｉｎu3000ｔｈｅu3000ｈｉｓｔｏｒｙu3000ｏｆu3000ｅｓｔｐ', 'ｍｅ', 'ｍｕｃｈ', 'ｎｅｓｓ', 'ｏｄ', 'ｏｎ', 'ｐｓｙ', 'ｒｅｓｐｅｃｔu3000ｫｬｩｧ', 'ｓｈｅ', 'ｓｏ', 'ｔｒｕｍｐu3000ｉｓu3000ａｎu3000ｅｓｔｐ', 'ｖａｐｏｒｗａｖｅ', 'ｗｈｙu3000ｉｓu3000ａｎｙｏｎｅu3000ｓｔｉｌｌu3000ｄｉｓｃｕｓｓｉｎｇu3000ｔｈｉｓ', 'ﾉωﾉ', 'ﾉｼ', 'ﾉﾞ', 'ﾉﾟ', 'ﾟдﾟщ', 'ﾟﾟ']\n"
     ]
    }
   ],
   "source": [
    "print(vectorizer.get_feature_names())"
   ]
  },
  {
   "cell_type": "code",
   "execution_count": 25,
   "metadata": {},
   "outputs": [],
   "source": [
    "mb_df = pd.DataFrame(myers_briggs, columns=['type', 'posts'])\n",
    "types = sorted(mb_df['type'].unique())"
   ]
  },
  {
   "cell_type": "code",
   "execution_count": 28,
   "metadata": {},
   "outputs": [],
   "source": [
    "ENFJ = mb_df[mb_df['type'] == 'ENFJ']\n",
    "ENFP = mb_df[mb_df['type'] == 'ENFP']\n",
    "ENTJ = mb_df[mb_df['type'] == 'ENTJ']\n",
    "ENTP = mb_df[mb_df['type'] == 'ENTP']\n",
    "ESFJ = mb_df[mb_df['type'] == 'ESFJ']\n",
    "ESFP = mb_df[mb_df['type'] == 'ESFP']\n",
    "ESTJ = mb_df[mb_df['type'] == 'ESTJ']\n",
    "ESTP = mb_df[mb_df['type'] == 'ESTP']\n",
    "INFJ = mb_df[mb_df['type'] == 'INFJ']\n",
    "INFP = mb_df[mb_df['type'] == 'INFP']\n",
    "INTJ = mb_df[mb_df['type'] == 'INTJ']\n",
    "INTP = mb_df[mb_df['type'] == 'INTP']\n",
    "ISFJ = mb_df[mb_df['type'] == 'ISFJ']\n",
    "ISFP = mb_df[mb_df['type'] == 'ISFP']\n",
    "ISTJ = mb_df[mb_df['type'] == 'ISTJ']\n",
    "ISTP = mb_df[mb_df['type'] == 'ISTP']"
   ]
  },
  {
   "cell_type": "code",
   "execution_count": 27,
   "metadata": {},
   "outputs": [
    {
     "output_type": "execute_result",
     "data": {
      "text/plain": [
       "['ENFJ',\n",
       " 'ENFP',\n",
       " 'ENTJ',\n",
       " 'ENTP',\n",
       " 'ESFJ',\n",
       " 'ESFP',\n",
       " 'ESTJ',\n",
       " 'ESTP',\n",
       " 'INFJ',\n",
       " 'INFP',\n",
       " 'INTJ',\n",
       " 'INTP',\n",
       " 'ISFJ',\n",
       " 'ISFP',\n",
       " 'ISTJ',\n",
       " 'ISTP']"
      ]
     },
     "metadata": {},
     "execution_count": 27
    }
   ],
   "source": [
    "types"
   ]
  },
  {
   "cell_type": "code",
   "execution_count": null,
   "metadata": {},
   "outputs": [],
   "source": []
  }
 ]
}