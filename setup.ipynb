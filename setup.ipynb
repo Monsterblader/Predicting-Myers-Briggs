{
 "metadata": {
  "language_info": {
   "codemirror_mode": {
    "name": "ipython",
    "version": 3
   },
   "file_extension": ".py",
   "mimetype": "text/x-python",
   "name": "python",
   "nbconvert_exporter": "python",
   "pygments_lexer": "ipython3",
   "version": "3.8.5-final"
  },
  "orig_nbformat": 2,
  "kernelspec": {
   "name": "Python 3.8.5 64-bit ('metis': conda)",
   "display_name": "Python 3.8.5 64-bit ('metis': conda)",
   "metadata": {
    "interpreter": {
     "hash": "1a0499c7a4a50afe9d0222578684e6b7d0a5b28e1d6168b6dad088fd14a794c9"
    }
   }
  }
 },
 "nbformat": 4,
 "nbformat_minor": 2,
 "cells": [
  {
   "source": [
    "# Resources\n",
    "https://docs.google.com/document/d/11MFXRQfpPkBS37qSlBGKb5EGD0DH7hEtKu-YlV5sK0I/edit\n",
    "\n",
    "https://towardsdatascience.com/how-to-train-test-split-kfold-vs-stratifiedkfold-281767b93869?gi=194ee6e79b9d"
   ],
   "cell_type": "markdown",
   "metadata": {}
  },
  {
   "cell_type": "code",
   "execution_count": 1,
   "metadata": {},
   "outputs": [],
   "source": [
    "import re\n",
    "\n",
    "# Get pandas and postgres to work together\n",
    "import psycopg2 as pg\n",
    "import pandas as pd\n",
    "\n",
    "# We are also going to do some basic viz\n",
    "import matplotlib.pyplot as plt\n",
    "import seaborn as sns\n",
    "%config InlineBackend.figure_formats = ['svg']\n",
    "%matplotlib inline"
   ]
  },
  {
   "cell_type": "code",
   "execution_count": 2,
   "metadata": {},
   "outputs": [],
   "source": [
    "plt.rcParams['figure.figsize'] = (9, 6)\n",
    "sns.set(context='notebook', style='whitegrid', font_scale=1.2)"
   ]
  },
  {
   "cell_type": "code",
   "execution_count": 3,
   "metadata": {},
   "outputs": [],
   "source": [
    "# Postgres info to connect\n",
    "connection_args = {\n",
    "    'host': 'localhost',  # We are connecting to our _local_ version of psql\n",
    "    'dbname': 'myersbriggs',    # DB that we are connecting to\n",
    "    'port': 5432          # port we opened on AWS\n",
    "}\n",
    "\n",
    "connection = pg.connect(**connection_args)  # What is that \"**\" there??\n",
    "cur = connection.cursor()"
   ]
  },
  {
   "source": [
    "## Read data from .csv\n",
    "```python\n",
    "df = pd.read_csv('mbti_1.csv')\n",
    "```"
   ],
   "cell_type": "markdown",
   "metadata": {}
  },
  {
   "source": [
    "## Create a table in PostgreSQL database\n",
    "\n",
    "```python\n",
    "sqlCreateTable = \"create table raw_data (id bigint, type varchar(4), posts text);\"\n",
    "\n",
    "cur.execute(sqlCreateTable)\n",
    "connection.commit()\n",
    "\n",
    "# Didn't work.  Created manually.\n",
    "\n",
    "def make_SQL_string():\n",
    "    columns = [\"post_\" + str(i) + \" text, \" for i in range(58)]\n",
    "\n",
    "    return \"CREATE TABLE posts;\"\n",
    "\n",
    "cur.execute(make_SQL_string())\n",
    "connection.commit()\n",
    "```"
   ],
   "cell_type": "markdown",
   "metadata": {}
  },
  {
   "source": [
    "## Inserting the data into the database.\n",
    "```python\n",
    "def single_insert(conn, insert_req, values):\n",
    "    \"\"\" Execute a single INSERT request \"\"\"\n",
    "    cursor = conn.cursor()\n",
    "    try:\n",
    "        cursor.execute(insert_req, values)\n",
    "        conn.commit()\n",
    "    except (Exception, pg.DatabaseError) as error:\n",
    "        print(\"Error: %s\" % error)\n",
    "        conn.rollback()\n",
    "        cursor.close()\n",
    "        return 1\n",
    "    cursor.close()\n",
    "\n",
    "    # Inserting each row\n",
    "for i in df.index:\n",
    "\n",
    "    query = \"INSERT into raw_data(id, type, posts) values('%s',%s,%s);\"\n",
    "    values = (i, df['type'][i], df['posts'][i])\n",
    "    single_insert(connection, query, values)\n",
    "```"
   ],
   "cell_type": "markdown",
   "metadata": {}
  },
  {
   "cell_type": "code",
   "execution_count": 4,
   "metadata": {},
   "outputs": [
    {
     "output_type": "stream",
     "name": "stdout",
     "text": [
      "Selecting rows from mobile table using cursor.fetchall\n"
     ]
    }
   ],
   "source": [
    "postgreSQL_select_Query = \"SELECT * FROM raw_data\"\n",
    "\n",
    "cur.execute(postgreSQL_select_Query)\n",
    "print(\"Selecting rows from mobile table using cursor.fetchall\")\n",
    "myers_briggs = cur.fetchall()"
   ]
  },
  {
   "cell_type": "code",
   "execution_count": 8,
   "metadata": {},
   "outputs": [],
   "source": [
    "mb_df = pd.DataFrame(myers_briggs)\n",
    "\n",
    "post_list = [re.split('\\|\\|\\|+', post) for post in mb_df[1]]\n",
    "post_df = pd.DataFrame(post_list)\n",
    "post_df.insert(loc=0, column='type', value=mb_df[0])"
   ]
  },
  {
   "cell_type": "code",
   "execution_count": 63,
   "metadata": {},
   "outputs": [],
   "source": [
    "cur.close()\n",
    "# Close the connection\n",
    "connection.close()"
   ]
  },
  {
   "cell_type": "code",
   "execution_count": 59,
   "metadata": {},
   "outputs": [
    {
     "output_type": "error",
     "ename": "KeyError",
     "evalue": "'0'",
     "traceback": [
      "\u001b[0;31m---------------------------------------------------------------------------\u001b[0m",
      "\u001b[0;31mKeyError\u001b[0m                                  Traceback (most recent call last)",
      "\u001b[0;32m~/opt/anaconda3/envs/metis/lib/python3.8/site-packages/pandas/core/indexes/base.py\u001b[0m in \u001b[0;36mget_loc\u001b[0;34m(self, key, method, tolerance)\u001b[0m\n\u001b[1;32m   2890\u001b[0m             \u001b[0;32mtry\u001b[0m\u001b[0;34m:\u001b[0m\u001b[0;34m\u001b[0m\u001b[0;34m\u001b[0m\u001b[0m\n\u001b[0;32m-> 2891\u001b[0;31m                 \u001b[0;32mreturn\u001b[0m \u001b[0mself\u001b[0m\u001b[0;34m.\u001b[0m\u001b[0m_engine\u001b[0m\u001b[0;34m.\u001b[0m\u001b[0mget_loc\u001b[0m\u001b[0;34m(\u001b[0m\u001b[0mcasted_key\u001b[0m\u001b[0;34m)\u001b[0m\u001b[0;34m\u001b[0m\u001b[0;34m\u001b[0m\u001b[0m\n\u001b[0m\u001b[1;32m   2892\u001b[0m             \u001b[0;32mexcept\u001b[0m \u001b[0mKeyError\u001b[0m \u001b[0;32mas\u001b[0m \u001b[0merr\u001b[0m\u001b[0;34m:\u001b[0m\u001b[0;34m\u001b[0m\u001b[0;34m\u001b[0m\u001b[0m\n",
      "\u001b[0;32mpandas/_libs/index.pyx\u001b[0m in \u001b[0;36mpandas._libs.index.IndexEngine.get_loc\u001b[0;34m()\u001b[0m\n",
      "\u001b[0;32mpandas/_libs/index.pyx\u001b[0m in \u001b[0;36mpandas._libs.index.IndexEngine.get_loc\u001b[0;34m()\u001b[0m\n",
      "\u001b[0;32mpandas/_libs/index_class_helper.pxi\u001b[0m in \u001b[0;36mpandas._libs.index.Int64Engine._check_type\u001b[0;34m()\u001b[0m\n",
      "\u001b[0;31mKeyError\u001b[0m: '0'",
      "\nThe above exception was the direct cause of the following exception:\n",
      "\u001b[0;31mKeyError\u001b[0m                                  Traceback (most recent call last)",
      "\u001b[0;32m<ipython-input-59-c9d4edd5bad1>\u001b[0m in \u001b[0;36m<module>\u001b[0;34m\u001b[0m\n\u001b[1;32m     16\u001b[0m \u001b[0;34m\u001b[0m\u001b[0m\n\u001b[1;32m     17\u001b[0m     \u001b[0mquery\u001b[0m \u001b[0;34m=\u001b[0m \u001b[0;34m\"INSERT into posts(post_0, post_1, post_2, post_3, post_4, post_5, post_6, post_7, post_8, post_9, post_10, post_11, post_12, post_13, post_14, post_15, post_16, post_17, post_18, post_19, post_20, post_21, post_22, post_23, post_24, post_25, post_26, post_27, post_28, post_29, post_30, post_31, post_32, post_33, post_34, post_35, post_36, post_37, post_38, post_39, post_40, post_41, post_42, post_43, post_44, post_45, post_46, post_47, post_48, post_49, post_50, post_51, post_52, post_53, post_54, post_55, post_56, post_57, posts_58) values(%s, %s, %s, %s, %s, %s, %s, %s, %s, %s, %s, %s, %s, %s, %s, %s, %s, %s, %s, %s, %s, %s, %s, %s, %s, %s, %s, %s, %s, %s, %s, %s, %s, %s, %s, %s, %s, %s, %s, %s, %s, %s, %s, %s, %s, %s, %s, %s, %s, %s, %s, %s, %s, %s, %s, %s, %s, %s, %s);\"\u001b[0m\u001b[0;34m\u001b[0m\u001b[0;34m\u001b[0m\u001b[0m\n\u001b[0;32m---> 18\u001b[0;31m     \u001b[0mvalues\u001b[0m \u001b[0;34m=\u001b[0m \u001b[0;34m(\u001b[0m\u001b[0mmb_df\u001b[0m\u001b[0;34m[\u001b[0m\u001b[0;34m'0'\u001b[0m\u001b[0;34m]\u001b[0m\u001b[0;34m,\u001b[0m \u001b[0mmb_df\u001b[0m\u001b[0;34m[\u001b[0m\u001b[0;34m'1'\u001b[0m\u001b[0;34m]\u001b[0m\u001b[0;34m,\u001b[0m \u001b[0mmb_df\u001b[0m\u001b[0;34m[\u001b[0m\u001b[0;34m'2'\u001b[0m\u001b[0;34m]\u001b[0m\u001b[0;34m,\u001b[0m \u001b[0mmb_df\u001b[0m\u001b[0;34m[\u001b[0m\u001b[0;34m'3'\u001b[0m\u001b[0;34m]\u001b[0m\u001b[0;34m,\u001b[0m \u001b[0mmb_df\u001b[0m\u001b[0;34m[\u001b[0m\u001b[0;34m'4'\u001b[0m\u001b[0;34m]\u001b[0m\u001b[0;34m,\u001b[0m \u001b[0mmb_df\u001b[0m\u001b[0;34m[\u001b[0m\u001b[0;34m'5'\u001b[0m\u001b[0;34m]\u001b[0m\u001b[0;34m,\u001b[0m \u001b[0mmb_df\u001b[0m\u001b[0;34m[\u001b[0m\u001b[0;34m'6'\u001b[0m\u001b[0;34m]\u001b[0m\u001b[0;34m,\u001b[0m \u001b[0mmb_df\u001b[0m\u001b[0;34m[\u001b[0m\u001b[0;34m'7'\u001b[0m\u001b[0;34m]\u001b[0m\u001b[0;34m,\u001b[0m \u001b[0mmb_df\u001b[0m\u001b[0;34m[\u001b[0m\u001b[0;34m'8'\u001b[0m\u001b[0;34m]\u001b[0m\u001b[0;34m,\u001b[0m \u001b[0mmb_df\u001b[0m\u001b[0;34m[\u001b[0m\u001b[0;34m'9'\u001b[0m\u001b[0;34m]\u001b[0m\u001b[0;34m,\u001b[0m \u001b[0mmb_df\u001b[0m\u001b[0;34m[\u001b[0m\u001b[0;34m'10'\u001b[0m\u001b[0;34m]\u001b[0m\u001b[0;34m,\u001b[0m \u001b[0mmb_df\u001b[0m\u001b[0;34m[\u001b[0m\u001b[0;34m'11'\u001b[0m\u001b[0;34m]\u001b[0m\u001b[0;34m,\u001b[0m \u001b[0mmb_df\u001b[0m\u001b[0;34m[\u001b[0m\u001b[0;34m'12'\u001b[0m\u001b[0;34m]\u001b[0m\u001b[0;34m,\u001b[0m \u001b[0mmb_df\u001b[0m\u001b[0;34m[\u001b[0m\u001b[0;34m'13'\u001b[0m\u001b[0;34m]\u001b[0m\u001b[0;34m,\u001b[0m \u001b[0mmb_df\u001b[0m\u001b[0;34m[\u001b[0m\u001b[0;34m'14'\u001b[0m\u001b[0;34m]\u001b[0m\u001b[0;34m,\u001b[0m \u001b[0mmb_df\u001b[0m\u001b[0;34m[\u001b[0m\u001b[0;34m'15'\u001b[0m\u001b[0;34m]\u001b[0m\u001b[0;34m,\u001b[0m \u001b[0mmb_df\u001b[0m\u001b[0;34m[\u001b[0m\u001b[0;34m'16'\u001b[0m\u001b[0;34m]\u001b[0m\u001b[0;34m,\u001b[0m \u001b[0mmb_df\u001b[0m\u001b[0;34m[\u001b[0m\u001b[0;34m'17'\u001b[0m\u001b[0;34m]\u001b[0m\u001b[0;34m,\u001b[0m \u001b[0mmb_df\u001b[0m\u001b[0;34m[\u001b[0m\u001b[0;34m'18'\u001b[0m\u001b[0;34m]\u001b[0m\u001b[0;34m,\u001b[0m \u001b[0mmb_df\u001b[0m\u001b[0;34m[\u001b[0m\u001b[0;34m'19'\u001b[0m\u001b[0;34m]\u001b[0m\u001b[0;34m,\u001b[0m \u001b[0mmb_df\u001b[0m\u001b[0;34m[\u001b[0m\u001b[0;34m'20'\u001b[0m\u001b[0;34m]\u001b[0m\u001b[0;34m,\u001b[0m \u001b[0mmb_df\u001b[0m\u001b[0;34m[\u001b[0m\u001b[0;34m'21'\u001b[0m\u001b[0;34m]\u001b[0m\u001b[0;34m,\u001b[0m \u001b[0mmb_df\u001b[0m\u001b[0;34m[\u001b[0m\u001b[0;34m'22'\u001b[0m\u001b[0;34m]\u001b[0m\u001b[0;34m,\u001b[0m \u001b[0mmb_df\u001b[0m\u001b[0;34m[\u001b[0m\u001b[0;34m'23'\u001b[0m\u001b[0;34m]\u001b[0m\u001b[0;34m,\u001b[0m \u001b[0mmb_df\u001b[0m\u001b[0;34m[\u001b[0m\u001b[0;34m'24'\u001b[0m\u001b[0;34m]\u001b[0m\u001b[0;34m,\u001b[0m \u001b[0mmb_df\u001b[0m\u001b[0;34m[\u001b[0m\u001b[0;34m'25'\u001b[0m\u001b[0;34m]\u001b[0m\u001b[0;34m,\u001b[0m \u001b[0mmb_df\u001b[0m\u001b[0;34m[\u001b[0m\u001b[0;34m'26'\u001b[0m\u001b[0;34m]\u001b[0m\u001b[0;34m,\u001b[0m \u001b[0mmb_df\u001b[0m\u001b[0;34m[\u001b[0m\u001b[0;34m'27'\u001b[0m\u001b[0;34m]\u001b[0m\u001b[0;34m,\u001b[0m \u001b[0mmb_df\u001b[0m\u001b[0;34m[\u001b[0m\u001b[0;34m'28'\u001b[0m\u001b[0;34m]\u001b[0m\u001b[0;34m,\u001b[0m \u001b[0mmb_df\u001b[0m\u001b[0;34m[\u001b[0m\u001b[0;34m'29'\u001b[0m\u001b[0;34m]\u001b[0m\u001b[0;34m,\u001b[0m \u001b[0mmb_df\u001b[0m\u001b[0;34m[\u001b[0m\u001b[0;34m'30'\u001b[0m\u001b[0;34m]\u001b[0m\u001b[0;34m,\u001b[0m \u001b[0mmb_df\u001b[0m\u001b[0;34m[\u001b[0m\u001b[0;34m'31'\u001b[0m\u001b[0;34m]\u001b[0m\u001b[0;34m,\u001b[0m \u001b[0mmb_df\u001b[0m\u001b[0;34m[\u001b[0m\u001b[0;34m'32'\u001b[0m\u001b[0;34m]\u001b[0m\u001b[0;34m,\u001b[0m \u001b[0mmb_df\u001b[0m\u001b[0;34m[\u001b[0m\u001b[0;34m'33'\u001b[0m\u001b[0;34m]\u001b[0m\u001b[0;34m,\u001b[0m \u001b[0mmb_df\u001b[0m\u001b[0;34m[\u001b[0m\u001b[0;34m'34'\u001b[0m\u001b[0;34m]\u001b[0m\u001b[0;34m,\u001b[0m \u001b[0mmb_df\u001b[0m\u001b[0;34m[\u001b[0m\u001b[0;34m'35'\u001b[0m\u001b[0;34m]\u001b[0m\u001b[0;34m,\u001b[0m \u001b[0mmb_df\u001b[0m\u001b[0;34m[\u001b[0m\u001b[0;34m'36'\u001b[0m\u001b[0;34m]\u001b[0m\u001b[0;34m,\u001b[0m \u001b[0mmb_df\u001b[0m\u001b[0;34m[\u001b[0m\u001b[0;34m'37'\u001b[0m\u001b[0;34m]\u001b[0m\u001b[0;34m,\u001b[0m \u001b[0mmb_df\u001b[0m\u001b[0;34m[\u001b[0m\u001b[0;34m'38'\u001b[0m\u001b[0;34m]\u001b[0m\u001b[0;34m,\u001b[0m \u001b[0mmb_df\u001b[0m\u001b[0;34m[\u001b[0m\u001b[0;34m'39'\u001b[0m\u001b[0;34m]\u001b[0m\u001b[0;34m,\u001b[0m \u001b[0mmb_df\u001b[0m\u001b[0;34m[\u001b[0m\u001b[0;34m'40'\u001b[0m\u001b[0;34m]\u001b[0m\u001b[0;34m,\u001b[0m \u001b[0mmb_df\u001b[0m\u001b[0;34m[\u001b[0m\u001b[0;34m'41'\u001b[0m\u001b[0;34m]\u001b[0m\u001b[0;34m,\u001b[0m \u001b[0mmb_df\u001b[0m\u001b[0;34m[\u001b[0m\u001b[0;34m'42'\u001b[0m\u001b[0;34m]\u001b[0m\u001b[0;34m,\u001b[0m \u001b[0mmb_df\u001b[0m\u001b[0;34m[\u001b[0m\u001b[0;34m'43'\u001b[0m\u001b[0;34m]\u001b[0m\u001b[0;34m,\u001b[0m \u001b[0mmb_df\u001b[0m\u001b[0;34m[\u001b[0m\u001b[0;34m'44'\u001b[0m\u001b[0;34m]\u001b[0m\u001b[0;34m,\u001b[0m \u001b[0mmb_df\u001b[0m\u001b[0;34m[\u001b[0m\u001b[0;34m'45'\u001b[0m\u001b[0;34m]\u001b[0m\u001b[0;34m,\u001b[0m \u001b[0mmb_df\u001b[0m\u001b[0;34m[\u001b[0m\u001b[0;34m'46'\u001b[0m\u001b[0;34m]\u001b[0m\u001b[0;34m,\u001b[0m \u001b[0mmb_df\u001b[0m\u001b[0;34m[\u001b[0m\u001b[0;34m'47'\u001b[0m\u001b[0;34m]\u001b[0m\u001b[0;34m,\u001b[0m \u001b[0mmb_df\u001b[0m\u001b[0;34m[\u001b[0m\u001b[0;34m'48'\u001b[0m\u001b[0;34m]\u001b[0m\u001b[0;34m,\u001b[0m \u001b[0mmb_df\u001b[0m\u001b[0;34m[\u001b[0m\u001b[0;34m'49'\u001b[0m\u001b[0;34m]\u001b[0m\u001b[0;34m,\u001b[0m \u001b[0mmb_df\u001b[0m\u001b[0;34m[\u001b[0m\u001b[0;34m'50'\u001b[0m\u001b[0;34m]\u001b[0m\u001b[0;34m,\u001b[0m \u001b[0mmb_df\u001b[0m\u001b[0;34m[\u001b[0m\u001b[0;34m'51'\u001b[0m\u001b[0;34m]\u001b[0m\u001b[0;34m,\u001b[0m \u001b[0mmb_df\u001b[0m\u001b[0;34m[\u001b[0m\u001b[0;34m'52'\u001b[0m\u001b[0;34m]\u001b[0m\u001b[0;34m,\u001b[0m \u001b[0mmb_df\u001b[0m\u001b[0;34m[\u001b[0m\u001b[0;34m'53'\u001b[0m\u001b[0;34m]\u001b[0m\u001b[0;34m,\u001b[0m \u001b[0mmb_df\u001b[0m\u001b[0;34m[\u001b[0m\u001b[0;34m'54'\u001b[0m\u001b[0;34m]\u001b[0m\u001b[0;34m,\u001b[0m \u001b[0mmb_df\u001b[0m\u001b[0;34m[\u001b[0m\u001b[0;34m'55'\u001b[0m\u001b[0;34m]\u001b[0m\u001b[0;34m,\u001b[0m \u001b[0mmb_df\u001b[0m\u001b[0;34m[\u001b[0m\u001b[0;34m'56'\u001b[0m\u001b[0;34m]\u001b[0m\u001b[0;34m,\u001b[0m \u001b[0mmb_df\u001b[0m\u001b[0;34m[\u001b[0m\u001b[0;34m'57'\u001b[0m\u001b[0;34m]\u001b[0m\u001b[0;34m,\u001b[0m \u001b[0mmb_df\u001b[0m\u001b[0;34m[\u001b[0m\u001b[0;34m'58'\u001b[0m\u001b[0;34m]\u001b[0m\u001b[0;34m)\u001b[0m\u001b[0;34m\u001b[0m\u001b[0;34m\u001b[0m\u001b[0m\n\u001b[0m\u001b[1;32m     19\u001b[0m     \u001b[0msingle_insert\u001b[0m\u001b[0;34m(\u001b[0m\u001b[0mconnection\u001b[0m\u001b[0;34m,\u001b[0m \u001b[0mquery\u001b[0m\u001b[0;34m,\u001b[0m \u001b[0mvalues\u001b[0m\u001b[0;34m)\u001b[0m\u001b[0;34m\u001b[0m\u001b[0;34m\u001b[0m\u001b[0m\n",
      "\u001b[0;32m~/opt/anaconda3/envs/metis/lib/python3.8/site-packages/pandas/core/frame.py\u001b[0m in \u001b[0;36m__getitem__\u001b[0;34m(self, key)\u001b[0m\n\u001b[1;32m   2900\u001b[0m             \u001b[0;32mif\u001b[0m \u001b[0mself\u001b[0m\u001b[0;34m.\u001b[0m\u001b[0mcolumns\u001b[0m\u001b[0;34m.\u001b[0m\u001b[0mnlevels\u001b[0m \u001b[0;34m>\u001b[0m \u001b[0;36m1\u001b[0m\u001b[0;34m:\u001b[0m\u001b[0;34m\u001b[0m\u001b[0;34m\u001b[0m\u001b[0m\n\u001b[1;32m   2901\u001b[0m                 \u001b[0;32mreturn\u001b[0m \u001b[0mself\u001b[0m\u001b[0;34m.\u001b[0m\u001b[0m_getitem_multilevel\u001b[0m\u001b[0;34m(\u001b[0m\u001b[0mkey\u001b[0m\u001b[0;34m)\u001b[0m\u001b[0;34m\u001b[0m\u001b[0;34m\u001b[0m\u001b[0m\n\u001b[0;32m-> 2902\u001b[0;31m             \u001b[0mindexer\u001b[0m \u001b[0;34m=\u001b[0m \u001b[0mself\u001b[0m\u001b[0;34m.\u001b[0m\u001b[0mcolumns\u001b[0m\u001b[0;34m.\u001b[0m\u001b[0mget_loc\u001b[0m\u001b[0;34m(\u001b[0m\u001b[0mkey\u001b[0m\u001b[0;34m)\u001b[0m\u001b[0;34m\u001b[0m\u001b[0;34m\u001b[0m\u001b[0m\n\u001b[0m\u001b[1;32m   2903\u001b[0m             \u001b[0;32mif\u001b[0m \u001b[0mis_integer\u001b[0m\u001b[0;34m(\u001b[0m\u001b[0mindexer\u001b[0m\u001b[0;34m)\u001b[0m\u001b[0;34m:\u001b[0m\u001b[0;34m\u001b[0m\u001b[0;34m\u001b[0m\u001b[0m\n\u001b[1;32m   2904\u001b[0m                 \u001b[0mindexer\u001b[0m \u001b[0;34m=\u001b[0m \u001b[0;34m[\u001b[0m\u001b[0mindexer\u001b[0m\u001b[0;34m]\u001b[0m\u001b[0;34m\u001b[0m\u001b[0;34m\u001b[0m\u001b[0m\n",
      "\u001b[0;32m~/opt/anaconda3/envs/metis/lib/python3.8/site-packages/pandas/core/indexes/base.py\u001b[0m in \u001b[0;36mget_loc\u001b[0;34m(self, key, method, tolerance)\u001b[0m\n\u001b[1;32m   2891\u001b[0m                 \u001b[0;32mreturn\u001b[0m \u001b[0mself\u001b[0m\u001b[0;34m.\u001b[0m\u001b[0m_engine\u001b[0m\u001b[0;34m.\u001b[0m\u001b[0mget_loc\u001b[0m\u001b[0;34m(\u001b[0m\u001b[0mcasted_key\u001b[0m\u001b[0;34m)\u001b[0m\u001b[0;34m\u001b[0m\u001b[0;34m\u001b[0m\u001b[0m\n\u001b[1;32m   2892\u001b[0m             \u001b[0;32mexcept\u001b[0m \u001b[0mKeyError\u001b[0m \u001b[0;32mas\u001b[0m \u001b[0merr\u001b[0m\u001b[0;34m:\u001b[0m\u001b[0;34m\u001b[0m\u001b[0;34m\u001b[0m\u001b[0m\n\u001b[0;32m-> 2893\u001b[0;31m                 \u001b[0;32mraise\u001b[0m \u001b[0mKeyError\u001b[0m\u001b[0;34m(\u001b[0m\u001b[0mkey\u001b[0m\u001b[0;34m)\u001b[0m \u001b[0;32mfrom\u001b[0m \u001b[0merr\u001b[0m\u001b[0;34m\u001b[0m\u001b[0;34m\u001b[0m\u001b[0m\n\u001b[0m\u001b[1;32m   2894\u001b[0m \u001b[0;34m\u001b[0m\u001b[0m\n\u001b[1;32m   2895\u001b[0m         \u001b[0;32mif\u001b[0m \u001b[0mtolerance\u001b[0m \u001b[0;32mis\u001b[0m \u001b[0;32mnot\u001b[0m \u001b[0;32mNone\u001b[0m\u001b[0;34m:\u001b[0m\u001b[0;34m\u001b[0m\u001b[0;34m\u001b[0m\u001b[0m\n",
      "\u001b[0;31mKeyError\u001b[0m: '0'"
     ]
    }
   ],
   "source": [
    "def single_insert(conn, insert_req, values):\n",
    "    \"\"\" Execute a single INSERT request \"\"\"\n",
    "    cursor = conn.cursor()\n",
    "    try:\n",
    "        cursor.execute(insert_req, values)\n",
    "        conn.commit()\n",
    "    except (Exception, pg.DatabaseError) as error:\n",
    "        print(\"Error: %s\" % error)\n",
    "        conn.rollback()\n",
    "        cursor.close()\n",
    "        return 1\n",
    "    cursor.close()\n",
    "\n",
    "    # Inserting each row\n",
    "for i in mb_df.index:\n",
    "\n",
    "    query = \"INSERT into posts(post_0, post_1, post_2, post_3, post_4, post_5, post_6, post_7, post_8, post_9, post_10, post_11, post_12, post_13, post_14, post_15, post_16, post_17, post_18, post_19, post_20, post_21, post_22, post_23, post_24, post_25, post_26, post_27, post_28, post_29, post_30, post_31, post_32, post_33, post_34, post_35, post_36, post_37, post_38, post_39, post_40, post_41, post_42, post_43, post_44, post_45, post_46, post_47, post_48, post_49, post_50, post_51, post_52, post_53, post_54, post_55, post_56, post_57, posts_58) values(%s, %s, %s, %s, %s, %s, %s, %s, %s, %s, %s, %s, %s, %s, %s, %s, %s, %s, %s, %s, %s, %s, %s, %s, %s, %s, %s, %s, %s, %s, %s, %s, %s, %s, %s, %s, %s, %s, %s, %s, %s, %s, %s, %s, %s, %s, %s, %s, %s, %s, %s, %s, %s, %s, %s, %s, %s, %s, %s);\"\n",
    "    values = (mb_df['0'], mb_df['1'], mb_df['2'], mb_df['3'], mb_df['4'], mb_df['5'], mb_df['6'], mb_df['7'], mb_df['8'], mb_df['9'], mb_df['10'], mb_df['11'], mb_df['12'], mb_df['13'], mb_df['14'], mb_df['15'], mb_df['16'], mb_df['17'], mb_df['18'], mb_df['19'], mb_df['20'], mb_df['21'], mb_df['22'], mb_df['23'], mb_df['24'], mb_df['25'], mb_df['26'], mb_df['27'], mb_df['28'], mb_df['29'], mb_df['30'], mb_df['31'], mb_df['32'], mb_df['33'], mb_df['34'], mb_df['35'], mb_df['36'], mb_df['37'], mb_df['38'], mb_df['39'], mb_df['40'], mb_df['41'], mb_df['42'], mb_df['43'], mb_df['44'], mb_df['45'], mb_df['46'], mb_df['47'], mb_df['48'], mb_df['49'], mb_df['50'], mb_df['51'], mb_df['52'], mb_df['53'], mb_df['54'], mb_df['55'], mb_df['56'], mb_df['57'], mb_df['58'])\n",
    "    single_insert(connection, query, values)"
   ]
  },
  {
   "cell_type": "code",
   "execution_count": 58,
   "metadata": {},
   "outputs": [
    {
     "output_type": "execute_result",
     "data": {
      "text/plain": [
       "\"CREATE TABLE posts (mb_df['0'], mb_df['1'], mb_df['2'], mb_df['3'], mb_df['4'], mb_df['5'], mb_df['6'], mb_df['7'], mb_df['8'], mb_df['9'], mb_df['10'], mb_df['11'], mb_df['12'], mb_df['13'], mb_df['14'], mb_df['15'], mb_df['16'], mb_df['17'], mb_df['18'], mb_df['19'], mb_df['20'], mb_df['21'], mb_df['22'], mb_df['23'], mb_df['24'], mb_df['25'], mb_df['26'], mb_df['27'], mb_df['28'], mb_df['29'], mb_df['30'], mb_df['31'], mb_df['32'], mb_df['33'], mb_df['34'], mb_df['35'], mb_df['36'], mb_df['37'], mb_df['38'], mb_df['39'], mb_df['40'], mb_df['41'], mb_df['42'], mb_df['43'], mb_df['44'], mb_df['45'], mb_df['46'], mb_df['47'], mb_df['48'], mb_df['49'], mb_df['50'], mb_df['51'], mb_df['52'], mb_df['53'], mb_df['54'], mb_df['55'], mb_df['56'], mb_df['57'], posts_58)\""
      ]
     },
     "metadata": {},
     "execution_count": 58
    }
   ],
   "source": [
    "def make_SQL_string():\n",
    "    columns = [\"mb_df['\" + str(i) + \"'], \" for i in range(58)]\n",
    "\n",
    "    return \"CREATE TABLE posts (\" + \"\".join(columns) + \"posts_58)\"\n",
    "\n",
    "make_SQL_string()"
   ]
  },
  {
   "cell_type": "code",
   "execution_count": 51,
   "metadata": {},
   "outputs": [
    {
     "output_type": "execute_result",
     "data": {
      "text/plain": [
       "'CREATE TABLE posts (post_0, post_1, post_2, post_3, post_4, post_5, post_6, post_7, post_8, post_9, post_10, post_11, post_12, post_13, post_14, post_15, post_16, post_17, post_18, post_19, post_20, post_21, post_22, post_23, post_24, post_25, post_26, post_27, post_28, post_29, post_30, post_31, post_32, post_33, post_34, post_35, post_36, post_37, post_38, post_39, post_40, post_41, post_42, post_43, post_44, post_45, post_46, post_47, post_48, post_49, post_50, post_51, post_52, post_53, post_54, post_55, post_56, post_57, posts_58)'"
      ]
     },
     "metadata": {},
     "execution_count": 51
    }
   ],
   "source": [
    "make_SQL_string()"
   ]
  },
  {
   "cell_type": "code",
   "execution_count": 62,
   "metadata": {},
   "outputs": [],
   "source": []
  },
  {
   "cell_type": "code",
   "execution_count": null,
   "metadata": {},
   "outputs": [],
   "source": []
  }
 ]
}